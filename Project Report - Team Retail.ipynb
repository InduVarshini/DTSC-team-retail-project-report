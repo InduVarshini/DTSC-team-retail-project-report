{
 "cells": [
  {
   "cell_type": "markdown",
   "id": "c8453d30",
   "metadata": {
    "id": "c8453d30"
   },
   "source": [
    "### <center> <b> Final Project Report </b> </center>\n",
    "\n",
    "#### <center> Retail Domain </center>\n",
    "\n",
    "**Team Members**: Abiram Vyas, Nidhi Choudhary, Indu Varshini Jayapal"
   ]
  },
  {
   "cell_type": "markdown",
   "id": "5a4ce5ac",
   "metadata": {
    "id": "5a4ce5ac"
   },
   "source": [
    "### Question of Interest\n"
   ]
  },
  {
   "cell_type": "markdown",
   "id": "PNKeqM95B8qM",
   "metadata": {
    "id": "PNKeqM95B8qM"
   },
   "source": [
    "* The point we are trying to analyse is to see the product information of womens' shoes from the Datafinity Product Database\n",
    "* We are trying to analyze possible patterns in terms of price points of various brands along with the ranges in price\n",
    "* Finally we are trying to find a style of shoe which has a large variation in the price while also looking at any popular color in the database"
   ]
  },
  {
   "cell_type": "markdown",
   "id": "xxARDxfmCbDf",
   "metadata": {
    "id": "xxARDxfmCbDf"
   },
   "source": [
    "### Source and Short Description of the data"
   ]
  },
  {
   "cell_type": "markdown",
   "id": "26710a21",
   "metadata": {
    "id": "26710a21"
   },
   "source": [
    "**Data Source**: https://data.world/datafiniti/womens-shoe-prices\n",
    "\n",
    "**Short Description of the data**:\n",
    "\n",
    "This is a list of 10,000 women's shoes and their product information provided by Datafiniti's Product Database. The dataset mainly talks about key features such as\n",
    "<li> shoe name </li>\n",
    "<li> shoe brand </li>\n",
    "<li> shoe price </li>\n",
    "<li> shoe links </li>\n",
    "\n",
    "Some of the data is blank or has a lot of missing rows for which data cleaning is to be done"
   ]
  },
  {
   "cell_type": "markdown",
   "id": "8d6068eb",
   "metadata": {
    "id": "8d6068eb"
   },
   "source": [
    "### Possible sources of bias\n",
    "\n",
    "Presence of luxury brands might skew the average price of shoes in a particular direction. This could possibly lead to the distribution of prices to NOT be normally centered around the mean"
   ]
  },
  {
   "cell_type": "markdown",
   "id": "05329f1f",
   "metadata": {
    "id": "05329f1f"
   },
   "source": [
    "## Section 1: Data Preprocessing"
   ]
  },
  {
   "cell_type": "markdown",
   "id": "oIWZWffhJCmN",
   "metadata": {
    "id": "oIWZWffhJCmN"
   },
   "source": [
    "<b> In this section we aim at doing the following -  </b>\n",
    "\n",
    "\n",
    "    1.1 Loading the data from the URL\n",
    "\n",
    "    1.2 Null Value treatment\n",
    "\n",
    "    1.3 Removal of unnecessary columns\n",
    "\n",
    "    1.4 Data Type Conversion\n",
    "\n",
    "    1.5 Binning values in columns to reduce the cardinality\n",
    "\n",
    "      1.5.1 Clubbing brands that have empty values into a bin called \"Unbranded\"\n",
    "\n",
    "      1.5.2 Combining shoe types into broad categories such as \"sandals\",\"boots\", etc.\n"
   ]
  },
  {
   "cell_type": "markdown",
   "id": "n1Qc9i-sMZ_c",
   "metadata": {
    "id": "n1Qc9i-sMZ_c"
   },
   "source": [
    "### Section 1.1 Loading Data and summarizing the same"
   ]
  },
  {
   "cell_type": "code",
   "execution_count": 1,
   "id": "2beb09a9",
   "metadata": {
    "id": "2beb09a9"
   },
   "outputs": [],
   "source": [
    "'''\n",
    "We are importing required libraries\n",
    "pandas: data wrangling\n",
    "matplotlib : data visualization\n",
    "seaborn : data visualization\n",
    "warning : ignoring warnings in print message\n",
    "'''\n",
    "import pandas as pd\n",
    "import matplotlib.pyplot as plt\n",
    "import seaborn as sns\n",
    "import warnings\n",
    "warnings.simplefilter(\"ignore\")"
   ]
  },
  {
   "cell_type": "code",
   "execution_count": 2,
   "id": "65bf4209",
   "metadata": {
    "colab": {
     "base_uri": "https://localhost:8080/"
    },
    "id": "65bf4209",
    "outputId": "eb69066e-0f3d-448e-8430-714001a8b231"
   },
   "outputs": [
    {
     "data": {
      "text/html": [
       "<div>\n",
       "<style scoped>\n",
       "    .dataframe tbody tr th:only-of-type {\n",
       "        vertical-align: middle;\n",
       "    }\n",
       "\n",
       "    .dataframe tbody tr th {\n",
       "        vertical-align: top;\n",
       "    }\n",
       "\n",
       "    .dataframe thead th {\n",
       "        text-align: right;\n",
       "    }\n",
       "</style>\n",
       "<table border=\"1\" class=\"dataframe\">\n",
       "  <thead>\n",
       "    <tr style=\"text-align: right;\">\n",
       "      <th></th>\n",
       "      <th>id</th>\n",
       "      <th>asins</th>\n",
       "      <th>brand</th>\n",
       "      <th>categories</th>\n",
       "      <th>colors</th>\n",
       "      <th>count</th>\n",
       "      <th>dateAdded</th>\n",
       "      <th>dateUpdated</th>\n",
       "      <th>descriptions</th>\n",
       "      <th>dimension</th>\n",
       "      <th>...</th>\n",
       "      <th>prices.sourceURLs</th>\n",
       "      <th>prices.warranty</th>\n",
       "      <th>quantities</th>\n",
       "      <th>reviews</th>\n",
       "      <th>sizes</th>\n",
       "      <th>skus</th>\n",
       "      <th>sourceURLs</th>\n",
       "      <th>upc</th>\n",
       "      <th>websiteIDs</th>\n",
       "      <th>weight</th>\n",
       "    </tr>\n",
       "  </thead>\n",
       "  <tbody>\n",
       "    <tr>\n",
       "      <th>0</th>\n",
       "      <td>AVpfBXx21cnluZ0-cKxs</td>\n",
       "      <td>NaN</td>\n",
       "      <td>Zoot</td>\n",
       "      <td>Shoes,Clothing,Women's Shoes,All Women's Shoes</td>\n",
       "      <td>Blue,Multicolor</td>\n",
       "      <td>NaN</td>\n",
       "      <td>2016-11-11T09:49:00Z</td>\n",
       "      <td>2016-11-11T09:49:00Z</td>\n",
       "      <td>[{\"dateSeen\":[\"2016-11-11T09:49:00Z\"],\"sourceU...</td>\n",
       "      <td>NaN</td>\n",
       "      <td>...</td>\n",
       "      <td>https://www.walmart.com/ip/Zoot-TT-TRAINER-2.0...</td>\n",
       "      <td>NaN</td>\n",
       "      <td>NaN</td>\n",
       "      <td>NaN</td>\n",
       "      <td>10,9</td>\n",
       "      <td>NaN</td>\n",
       "      <td>https://www.walmart.com/ip/Zoot-TT-TRAINER-2.0...</td>\n",
       "      <td>NaN</td>\n",
       "      <td>NaN</td>\n",
       "      <td>NaN</td>\n",
       "    </tr>\n",
       "    <tr>\n",
       "      <th>1</th>\n",
       "      <td>AVpfBXx21cnluZ0-cKxs</td>\n",
       "      <td>NaN</td>\n",
       "      <td>Zoot</td>\n",
       "      <td>Shoes,Clothing,Women's Shoes,All Women's Shoes</td>\n",
       "      <td>Blue,Multicolor</td>\n",
       "      <td>NaN</td>\n",
       "      <td>2016-11-11T09:49:00Z</td>\n",
       "      <td>2016-11-11T09:49:00Z</td>\n",
       "      <td>[{\"dateSeen\":[\"2016-11-11T09:49:00Z\"],\"sourceU...</td>\n",
       "      <td>NaN</td>\n",
       "      <td>...</td>\n",
       "      <td>https://www.walmart.com/ip/Zoot-TT-TRAINER-2.0...</td>\n",
       "      <td>NaN</td>\n",
       "      <td>NaN</td>\n",
       "      <td>NaN</td>\n",
       "      <td>10,9</td>\n",
       "      <td>NaN</td>\n",
       "      <td>https://www.walmart.com/ip/Zoot-TT-TRAINER-2.0...</td>\n",
       "      <td>NaN</td>\n",
       "      <td>NaN</td>\n",
       "      <td>NaN</td>\n",
       "    </tr>\n",
       "    <tr>\n",
       "      <th>2</th>\n",
       "      <td>AVpfBXx21cnluZ0-cKxs</td>\n",
       "      <td>NaN</td>\n",
       "      <td>Zoot</td>\n",
       "      <td>Shoes,Clothing,Women's Shoes,All Women's Shoes</td>\n",
       "      <td>Blue,Multicolor</td>\n",
       "      <td>NaN</td>\n",
       "      <td>2016-11-11T09:49:00Z</td>\n",
       "      <td>2016-11-11T09:49:00Z</td>\n",
       "      <td>[{\"dateSeen\":[\"2016-11-11T09:49:00Z\"],\"sourceU...</td>\n",
       "      <td>NaN</td>\n",
       "      <td>...</td>\n",
       "      <td>https://www.walmart.com/ip/Zoot-TT-TRAINER-2.0...</td>\n",
       "      <td>NaN</td>\n",
       "      <td>NaN</td>\n",
       "      <td>NaN</td>\n",
       "      <td>10,9</td>\n",
       "      <td>NaN</td>\n",
       "      <td>https://www.walmart.com/ip/Zoot-TT-TRAINER-2.0...</td>\n",
       "      <td>NaN</td>\n",
       "      <td>NaN</td>\n",
       "      <td>NaN</td>\n",
       "    </tr>\n",
       "    <tr>\n",
       "      <th>3</th>\n",
       "      <td>AVpfBXx21cnluZ0-cKxs</td>\n",
       "      <td>NaN</td>\n",
       "      <td>Zoot</td>\n",
       "      <td>Shoes,Clothing,Women's Shoes,All Women's Shoes</td>\n",
       "      <td>Blue,Multicolor</td>\n",
       "      <td>NaN</td>\n",
       "      <td>2016-11-11T09:49:00Z</td>\n",
       "      <td>2016-11-11T09:49:00Z</td>\n",
       "      <td>[{\"dateSeen\":[\"2016-11-11T09:49:00Z\"],\"sourceU...</td>\n",
       "      <td>NaN</td>\n",
       "      <td>...</td>\n",
       "      <td>https://www.walmart.com/ip/Zoot-TT-TRAINER-2.0...</td>\n",
       "      <td>NaN</td>\n",
       "      <td>NaN</td>\n",
       "      <td>NaN</td>\n",
       "      <td>10,9</td>\n",
       "      <td>NaN</td>\n",
       "      <td>https://www.walmart.com/ip/Zoot-TT-TRAINER-2.0...</td>\n",
       "      <td>NaN</td>\n",
       "      <td>NaN</td>\n",
       "      <td>NaN</td>\n",
       "    </tr>\n",
       "    <tr>\n",
       "      <th>4</th>\n",
       "      <td>AVpfEqFRLJeJML431x7w</td>\n",
       "      <td>NaN</td>\n",
       "      <td>Wild Pair</td>\n",
       "      <td>Shoes,Women's Shoes,Clothing,All Women's Shoes</td>\n",
       "      <td>Brown</td>\n",
       "      <td>NaN</td>\n",
       "      <td>2016-11-16T12:56:36Z</td>\n",
       "      <td>2016-11-16T12:56:36Z</td>\n",
       "      <td>[{\"dateSeen\":[\"2016-11-16T12:56:36Z\"],\"sourceU...</td>\n",
       "      <td>NaN</td>\n",
       "      <td>...</td>\n",
       "      <td>https://www.walmart.com/ip/Wild-Pair-Colfax-Wo...</td>\n",
       "      <td>NaN</td>\n",
       "      <td>NaN</td>\n",
       "      <td>NaN</td>\n",
       "      <td>8.5,7,7.5,8</td>\n",
       "      <td>NaN</td>\n",
       "      <td>https://www.walmart.com/ip/Wild-Pair-Colfax-Wo...</td>\n",
       "      <td>7.63181E+11</td>\n",
       "      <td>NaN</td>\n",
       "      <td>NaN</td>\n",
       "    </tr>\n",
       "  </tbody>\n",
       "</table>\n",
       "<p>5 rows × 47 columns</p>\n",
       "</div>"
      ],
      "text/plain": [
       "                     id asins      brand  \\\n",
       "0  AVpfBXx21cnluZ0-cKxs   NaN       Zoot   \n",
       "1  AVpfBXx21cnluZ0-cKxs   NaN       Zoot   \n",
       "2  AVpfBXx21cnluZ0-cKxs   NaN       Zoot   \n",
       "3  AVpfBXx21cnluZ0-cKxs   NaN       Zoot   \n",
       "4  AVpfEqFRLJeJML431x7w   NaN  Wild Pair   \n",
       "\n",
       "                                       categories           colors  count  \\\n",
       "0  Shoes,Clothing,Women's Shoes,All Women's Shoes  Blue,Multicolor    NaN   \n",
       "1  Shoes,Clothing,Women's Shoes,All Women's Shoes  Blue,Multicolor    NaN   \n",
       "2  Shoes,Clothing,Women's Shoes,All Women's Shoes  Blue,Multicolor    NaN   \n",
       "3  Shoes,Clothing,Women's Shoes,All Women's Shoes  Blue,Multicolor    NaN   \n",
       "4  Shoes,Women's Shoes,Clothing,All Women's Shoes            Brown    NaN   \n",
       "\n",
       "              dateAdded           dateUpdated  \\\n",
       "0  2016-11-11T09:49:00Z  2016-11-11T09:49:00Z   \n",
       "1  2016-11-11T09:49:00Z  2016-11-11T09:49:00Z   \n",
       "2  2016-11-11T09:49:00Z  2016-11-11T09:49:00Z   \n",
       "3  2016-11-11T09:49:00Z  2016-11-11T09:49:00Z   \n",
       "4  2016-11-16T12:56:36Z  2016-11-16T12:56:36Z   \n",
       "\n",
       "                                        descriptions dimension  ...  \\\n",
       "0  [{\"dateSeen\":[\"2016-11-11T09:49:00Z\"],\"sourceU...       NaN  ...   \n",
       "1  [{\"dateSeen\":[\"2016-11-11T09:49:00Z\"],\"sourceU...       NaN  ...   \n",
       "2  [{\"dateSeen\":[\"2016-11-11T09:49:00Z\"],\"sourceU...       NaN  ...   \n",
       "3  [{\"dateSeen\":[\"2016-11-11T09:49:00Z\"],\"sourceU...       NaN  ...   \n",
       "4  [{\"dateSeen\":[\"2016-11-16T12:56:36Z\"],\"sourceU...       NaN  ...   \n",
       "\n",
       "                                   prices.sourceURLs prices.warranty  \\\n",
       "0  https://www.walmart.com/ip/Zoot-TT-TRAINER-2.0...             NaN   \n",
       "1  https://www.walmart.com/ip/Zoot-TT-TRAINER-2.0...             NaN   \n",
       "2  https://www.walmart.com/ip/Zoot-TT-TRAINER-2.0...             NaN   \n",
       "3  https://www.walmart.com/ip/Zoot-TT-TRAINER-2.0...             NaN   \n",
       "4  https://www.walmart.com/ip/Wild-Pair-Colfax-Wo...             NaN   \n",
       "\n",
       "   quantities reviews        sizes skus  \\\n",
       "0         NaN     NaN         10,9  NaN   \n",
       "1         NaN     NaN         10,9  NaN   \n",
       "2         NaN     NaN         10,9  NaN   \n",
       "3         NaN     NaN         10,9  NaN   \n",
       "4         NaN     NaN  8.5,7,7.5,8  NaN   \n",
       "\n",
       "                                          sourceURLs          upc websiteIDs  \\\n",
       "0  https://www.walmart.com/ip/Zoot-TT-TRAINER-2.0...          NaN        NaN   \n",
       "1  https://www.walmart.com/ip/Zoot-TT-TRAINER-2.0...          NaN        NaN   \n",
       "2  https://www.walmart.com/ip/Zoot-TT-TRAINER-2.0...          NaN        NaN   \n",
       "3  https://www.walmart.com/ip/Zoot-TT-TRAINER-2.0...          NaN        NaN   \n",
       "4  https://www.walmart.com/ip/Wild-Pair-Colfax-Wo...  7.63181E+11        NaN   \n",
       "\n",
       "  weight  \n",
       "0    NaN  \n",
       "1    NaN  \n",
       "2    NaN  \n",
       "3    NaN  \n",
       "4    NaN  \n",
       "\n",
       "[5 rows x 47 columns]"
      ]
     },
     "execution_count": 2,
     "metadata": {},
     "output_type": "execute_result"
    }
   ],
   "source": [
    "'''\n",
    "We import the data from the specified URL and we aim to see the summary of the data available\n",
    "head() : first 5 records\n",
    "info() : summary of data\n",
    "'''\n",
    "womens_raw_data = pd.read_csv('https://query.data.world/s/5ieff32pjxf65ikv4hj2oqjptx7spo?dws=00000')\n",
    "womens_raw_data.head()"
   ]
  },
  {
   "cell_type": "code",
   "execution_count": 3,
   "id": "fbf24624",
   "metadata": {},
   "outputs": [
    {
     "name": "stdout",
     "output_type": "stream",
     "text": [
      "<class 'pandas.core.frame.DataFrame'>\n",
      "RangeIndex: 19045 entries, 0 to 19044\n",
      "Data columns (total 47 columns):\n",
      " #   Column               Non-Null Count  Dtype  \n",
      "---  ------               --------------  -----  \n",
      " 0   id                   19045 non-null  object \n",
      " 1   asins                2208 non-null   object \n",
      " 2   brand                18412 non-null  object \n",
      " 3   categories           19045 non-null  object \n",
      " 4   colors               11889 non-null  object \n",
      " 5   count                0 non-null      float64\n",
      " 6   dateAdded            19045 non-null  object \n",
      " 7   dateUpdated          19045 non-null  object \n",
      " 8   descriptions         10780 non-null  object \n",
      " 9   dimension            2418 non-null   object \n",
      " 10  ean                  9816 non-null   float64\n",
      " 11  features             14108 non-null  object \n",
      " 12  flavors              0 non-null      float64\n",
      " 13  imageURLs            17840 non-null  object \n",
      " 14  isbn                 0 non-null      float64\n",
      " 15  keys                 19045 non-null  object \n",
      " 16  manufacturer         8656 non-null   object \n",
      " 17  manufacturerNumber   15903 non-null  object \n",
      " 18  merchants            13688 non-null  object \n",
      " 19  name                 19045 non-null  object \n",
      " 20  prices.amountMin     19044 non-null  object \n",
      " 21  prices.amountMax     19045 non-null  object \n",
      " 22  prices.availability  135 non-null    object \n",
      " 23  prices.color         547 non-null    object \n",
      " 24  prices.condition     12228 non-null  object \n",
      " 25  prices.count         7 non-null      object \n",
      " 26  prices.currency      19036 non-null  object \n",
      " 27  prices.dateAdded     19041 non-null  object \n",
      " 28  prices.dateSeen      19041 non-null  object \n",
      " 29  prices.flavor        6 non-null      object \n",
      " 30  prices.isSale        19039 non-null  object \n",
      " 31  prices.merchant      14294 non-null  object \n",
      " 32  prices.offer         6853 non-null   object \n",
      " 33  prices.returnPolicy  752 non-null    object \n",
      " 34  prices.shipping      4563 non-null   object \n",
      " 35  prices.size          508 non-null    object \n",
      " 36  prices.source        4 non-null      object \n",
      " 37  prices.sourceURLs    19034 non-null  object \n",
      " 38  prices.warranty      20 non-null     object \n",
      " 39  quantities           2 non-null      object \n",
      " 40  reviews              1014 non-null   object \n",
      " 41  sizes                8269 non-null   object \n",
      " 42  skus                 7084 non-null   object \n",
      " 43  sourceURLs           19034 non-null  object \n",
      " 44  upc                  10671 non-null  object \n",
      " 45  websiteIDs           1 non-null      float64\n",
      " 46  weight               830 non-null    object \n",
      "dtypes: float64(5), object(42)\n",
      "memory usage: 6.8+ MB\n"
     ]
    }
   ],
   "source": [
    "womens_raw_data.info()"
   ]
  },
  {
   "cell_type": "markdown",
   "id": "8ce47b45",
   "metadata": {
    "id": "8ce47b45"
   },
   "source": [
    "### Section 1.2 Null Value treatment"
   ]
  },
  {
   "cell_type": "code",
   "execution_count": 4,
   "id": "5b5cc069",
   "metadata": {
    "colab": {
     "base_uri": "https://localhost:8080/"
    },
    "id": "5b5cc069",
    "outputId": "97ca59a7-5f2e-4667-ec40-6246f8654809"
   },
   "outputs": [
    {
     "data": {
      "text/html": [
       "<div>\n",
       "<style scoped>\n",
       "    .dataframe tbody tr th:only-of-type {\n",
       "        vertical-align: middle;\n",
       "    }\n",
       "\n",
       "    .dataframe tbody tr th {\n",
       "        vertical-align: top;\n",
       "    }\n",
       "\n",
       "    .dataframe thead th {\n",
       "        text-align: right;\n",
       "    }\n",
       "</style>\n",
       "<table border=\"1\" class=\"dataframe\">\n",
       "  <thead>\n",
       "    <tr style=\"text-align: right;\">\n",
       "      <th></th>\n",
       "      <th>#missing values</th>\n",
       "      <th>%of missing values</th>\n",
       "    </tr>\n",
       "  </thead>\n",
       "  <tbody>\n",
       "    <tr>\n",
       "      <th>isbn</th>\n",
       "      <td>19045</td>\n",
       "      <td>100.000000</td>\n",
       "    </tr>\n",
       "    <tr>\n",
       "      <th>count</th>\n",
       "      <td>19045</td>\n",
       "      <td>100.000000</td>\n",
       "    </tr>\n",
       "    <tr>\n",
       "      <th>flavors</th>\n",
       "      <td>19045</td>\n",
       "      <td>100.000000</td>\n",
       "    </tr>\n",
       "    <tr>\n",
       "      <th>websiteIDs</th>\n",
       "      <td>19044</td>\n",
       "      <td>99.994749</td>\n",
       "    </tr>\n",
       "    <tr>\n",
       "      <th>quantities</th>\n",
       "      <td>19043</td>\n",
       "      <td>99.989499</td>\n",
       "    </tr>\n",
       "    <tr>\n",
       "      <th>prices.source</th>\n",
       "      <td>19041</td>\n",
       "      <td>99.978997</td>\n",
       "    </tr>\n",
       "    <tr>\n",
       "      <th>prices.flavor</th>\n",
       "      <td>19039</td>\n",
       "      <td>99.968496</td>\n",
       "    </tr>\n",
       "    <tr>\n",
       "      <th>prices.count</th>\n",
       "      <td>19038</td>\n",
       "      <td>99.963245</td>\n",
       "    </tr>\n",
       "    <tr>\n",
       "      <th>prices.warranty</th>\n",
       "      <td>19025</td>\n",
       "      <td>99.894986</td>\n",
       "    </tr>\n",
       "    <tr>\n",
       "      <th>prices.availability</th>\n",
       "      <td>18910</td>\n",
       "      <td>99.291153</td>\n",
       "    </tr>\n",
       "    <tr>\n",
       "      <th>prices.size</th>\n",
       "      <td>18537</td>\n",
       "      <td>97.332633</td>\n",
       "    </tr>\n",
       "    <tr>\n",
       "      <th>prices.color</th>\n",
       "      <td>18498</td>\n",
       "      <td>97.127855</td>\n",
       "    </tr>\n",
       "    <tr>\n",
       "      <th>prices.returnPolicy</th>\n",
       "      <td>18293</td>\n",
       "      <td>96.051457</td>\n",
       "    </tr>\n",
       "    <tr>\n",
       "      <th>weight</th>\n",
       "      <td>18215</td>\n",
       "      <td>95.641901</td>\n",
       "    </tr>\n",
       "    <tr>\n",
       "      <th>reviews</th>\n",
       "      <td>18031</td>\n",
       "      <td>94.675768</td>\n",
       "    </tr>\n",
       "    <tr>\n",
       "      <th>asins</th>\n",
       "      <td>16837</td>\n",
       "      <td>88.406406</td>\n",
       "    </tr>\n",
       "    <tr>\n",
       "      <th>dimension</th>\n",
       "      <td>16627</td>\n",
       "      <td>87.303754</td>\n",
       "    </tr>\n",
       "    <tr>\n",
       "      <th>prices.shipping</th>\n",
       "      <td>14482</td>\n",
       "      <td>76.040956</td>\n",
       "    </tr>\n",
       "    <tr>\n",
       "      <th>prices.offer</th>\n",
       "      <td>12192</td>\n",
       "      <td>64.016802</td>\n",
       "    </tr>\n",
       "    <tr>\n",
       "      <th>skus</th>\n",
       "      <td>11961</td>\n",
       "      <td>62.803886</td>\n",
       "    </tr>\n",
       "    <tr>\n",
       "      <th>sizes</th>\n",
       "      <td>10776</td>\n",
       "      <td>56.581780</td>\n",
       "    </tr>\n",
       "    <tr>\n",
       "      <th>manufacturer</th>\n",
       "      <td>10389</td>\n",
       "      <td>54.549751</td>\n",
       "    </tr>\n",
       "    <tr>\n",
       "      <th>ean</th>\n",
       "      <td>9229</td>\n",
       "      <td>48.458913</td>\n",
       "    </tr>\n",
       "    <tr>\n",
       "      <th>upc</th>\n",
       "      <td>8374</td>\n",
       "      <td>43.969546</td>\n",
       "    </tr>\n",
       "    <tr>\n",
       "      <th>descriptions</th>\n",
       "      <td>8265</td>\n",
       "      <td>43.397217</td>\n",
       "    </tr>\n",
       "    <tr>\n",
       "      <th>colors</th>\n",
       "      <td>7156</td>\n",
       "      <td>37.574166</td>\n",
       "    </tr>\n",
       "    <tr>\n",
       "      <th>prices.condition</th>\n",
       "      <td>6817</td>\n",
       "      <td>35.794172</td>\n",
       "    </tr>\n",
       "    <tr>\n",
       "      <th>merchants</th>\n",
       "      <td>5357</td>\n",
       "      <td>28.128118</td>\n",
       "    </tr>\n",
       "    <tr>\n",
       "      <th>features</th>\n",
       "      <td>4937</td>\n",
       "      <td>25.922814</td>\n",
       "    </tr>\n",
       "    <tr>\n",
       "      <th>prices.merchant</th>\n",
       "      <td>4751</td>\n",
       "      <td>24.946180</td>\n",
       "    </tr>\n",
       "    <tr>\n",
       "      <th>manufacturerNumber</th>\n",
       "      <td>3142</td>\n",
       "      <td>16.497768</td>\n",
       "    </tr>\n",
       "    <tr>\n",
       "      <th>imageURLs</th>\n",
       "      <td>1205</td>\n",
       "      <td>6.327120</td>\n",
       "    </tr>\n",
       "    <tr>\n",
       "      <th>brand</th>\n",
       "      <td>633</td>\n",
       "      <td>3.323707</td>\n",
       "    </tr>\n",
       "    <tr>\n",
       "      <th>prices.sourceURLs</th>\n",
       "      <td>11</td>\n",
       "      <td>0.057758</td>\n",
       "    </tr>\n",
       "    <tr>\n",
       "      <th>sourceURLs</th>\n",
       "      <td>11</td>\n",
       "      <td>0.057758</td>\n",
       "    </tr>\n",
       "    <tr>\n",
       "      <th>prices.currency</th>\n",
       "      <td>9</td>\n",
       "      <td>0.047256</td>\n",
       "    </tr>\n",
       "    <tr>\n",
       "      <th>prices.isSale</th>\n",
       "      <td>6</td>\n",
       "      <td>0.031504</td>\n",
       "    </tr>\n",
       "    <tr>\n",
       "      <th>prices.dateSeen</th>\n",
       "      <td>4</td>\n",
       "      <td>0.021003</td>\n",
       "    </tr>\n",
       "    <tr>\n",
       "      <th>prices.dateAdded</th>\n",
       "      <td>4</td>\n",
       "      <td>0.021003</td>\n",
       "    </tr>\n",
       "    <tr>\n",
       "      <th>prices.amountMin</th>\n",
       "      <td>1</td>\n",
       "      <td>0.005251</td>\n",
       "    </tr>\n",
       "    <tr>\n",
       "      <th>dateAdded</th>\n",
       "      <td>0</td>\n",
       "      <td>0.000000</td>\n",
       "    </tr>\n",
       "    <tr>\n",
       "      <th>dateUpdated</th>\n",
       "      <td>0</td>\n",
       "      <td>0.000000</td>\n",
       "    </tr>\n",
       "    <tr>\n",
       "      <th>categories</th>\n",
       "      <td>0</td>\n",
       "      <td>0.000000</td>\n",
       "    </tr>\n",
       "    <tr>\n",
       "      <th>keys</th>\n",
       "      <td>0</td>\n",
       "      <td>0.000000</td>\n",
       "    </tr>\n",
       "    <tr>\n",
       "      <th>prices.amountMax</th>\n",
       "      <td>0</td>\n",
       "      <td>0.000000</td>\n",
       "    </tr>\n",
       "    <tr>\n",
       "      <th>name</th>\n",
       "      <td>0</td>\n",
       "      <td>0.000000</td>\n",
       "    </tr>\n",
       "    <tr>\n",
       "      <th>id</th>\n",
       "      <td>0</td>\n",
       "      <td>0.000000</td>\n",
       "    </tr>\n",
       "  </tbody>\n",
       "</table>\n",
       "</div>"
      ],
      "text/plain": [
       "                     #missing values  %of missing values\n",
       "isbn                           19045          100.000000\n",
       "count                          19045          100.000000\n",
       "flavors                        19045          100.000000\n",
       "websiteIDs                     19044           99.994749\n",
       "quantities                     19043           99.989499\n",
       "prices.source                  19041           99.978997\n",
       "prices.flavor                  19039           99.968496\n",
       "prices.count                   19038           99.963245\n",
       "prices.warranty                19025           99.894986\n",
       "prices.availability            18910           99.291153\n",
       "prices.size                    18537           97.332633\n",
       "prices.color                   18498           97.127855\n",
       "prices.returnPolicy            18293           96.051457\n",
       "weight                         18215           95.641901\n",
       "reviews                        18031           94.675768\n",
       "asins                          16837           88.406406\n",
       "dimension                      16627           87.303754\n",
       "prices.shipping                14482           76.040956\n",
       "prices.offer                   12192           64.016802\n",
       "skus                           11961           62.803886\n",
       "sizes                          10776           56.581780\n",
       "manufacturer                   10389           54.549751\n",
       "ean                             9229           48.458913\n",
       "upc                             8374           43.969546\n",
       "descriptions                    8265           43.397217\n",
       "colors                          7156           37.574166\n",
       "prices.condition                6817           35.794172\n",
       "merchants                       5357           28.128118\n",
       "features                        4937           25.922814\n",
       "prices.merchant                 4751           24.946180\n",
       "manufacturerNumber              3142           16.497768\n",
       "imageURLs                       1205            6.327120\n",
       "brand                            633            3.323707\n",
       "prices.sourceURLs                 11            0.057758\n",
       "sourceURLs                        11            0.057758\n",
       "prices.currency                    9            0.047256\n",
       "prices.isSale                      6            0.031504\n",
       "prices.dateSeen                    4            0.021003\n",
       "prices.dateAdded                   4            0.021003\n",
       "prices.amountMin                   1            0.005251\n",
       "dateAdded                          0            0.000000\n",
       "dateUpdated                        0            0.000000\n",
       "categories                         0            0.000000\n",
       "keys                               0            0.000000\n",
       "prices.amountMax                   0            0.000000\n",
       "name                               0            0.000000\n",
       "id                                 0            0.000000"
      ]
     },
     "execution_count": 4,
     "metadata": {},
     "output_type": "execute_result"
    }
   ],
   "source": [
    "def null_check(df):\n",
    "  '''\n",
    "  Goal: Analyzing the various NaNs across the columns in the dataframe\n",
    "  Input:\n",
    "        1. df - dataframe\n",
    "  Output:\n",
    "        1. missing_values_summary - summary statistics of all columns in df\n",
    "  '''\n",
    "\n",
    "  nan_values = df.isna().sum().sort_values(ascending = False)\n",
    "  percentage_nan = 100*nan_values/df.shape[0]\n",
    "  missing_values_summary = pd.concat([nan_values, percentage_nan], axis = 1).rename({0 : '#missing values', 1 : '%of missing values'}, axis = 1)\n",
    "  return missing_values_summary\n",
    "\n",
    "missing_values_summarized = null_check(womens_raw_data)\n",
    "missing_values_summarized"
   ]
  },
  {
   "cell_type": "markdown",
   "id": "649d6332",
   "metadata": {
    "id": "649d6332"
   },
   "source": [
    "#### Section 1.2.1 Dropping Columns based on a threshold"
   ]
  },
  {
   "cell_type": "code",
   "execution_count": 5,
   "id": "20f56ce5",
   "metadata": {
    "id": "20f56ce5"
   },
   "outputs": [],
   "source": [
    "'''\n",
    "Of the 47 columns in the dataset, 15 columns have more than 90% NaN and 7 columns have between 50% and 90% NaNs. Creating a cutoff\n",
    "of 50% to drop the columns which have null percentage greater than the cutoff\n",
    "\n",
    "Input :\n",
    "        1. df - dataframe (womens_raw_data)\n",
    "        2. thresh - threshold (cutoff)\n",
    "Output :\n",
    "        1. missing_df - dataframe with the missing value percentage across columns\n",
    "        2. df_new - cleaned data\n",
    "'''\n",
    "\n",
    "def col_drop(df,thresh):\n",
    "  df_new = df.dropna(thresh= len(df) * thresh, axis=1)\n",
    "  nans = df_new.isna().sum().sort_values(ascending = False)\n",
    "  pct = 100*nans/df_new.shape[0]\n",
    "  missing_df = pd.concat([nans, pct], axis = 1).rename({0 : '#missing values', 1 : '%of missing values'}, axis = 1)\n",
    "  return missing_df,df_new\n",
    "\n",
    "missing,df_new = col_drop(womens_raw_data,0.5)"
   ]
  },
  {
   "cell_type": "code",
   "execution_count": 6,
   "id": "01b3b035",
   "metadata": {
    "colab": {
     "base_uri": "https://localhost:8080/",
     "height": 423
    },
    "id": "01b3b035",
    "outputId": "3ffd0086-327d-44f3-8295-6cde8600075c"
   },
   "outputs": [
    {
     "data": {
      "text/html": [
       "<div>\n",
       "<style scoped>\n",
       "    .dataframe tbody tr th:only-of-type {\n",
       "        vertical-align: middle;\n",
       "    }\n",
       "\n",
       "    .dataframe tbody tr th {\n",
       "        vertical-align: top;\n",
       "    }\n",
       "\n",
       "    .dataframe thead th {\n",
       "        text-align: right;\n",
       "    }\n",
       "</style>\n",
       "<table border=\"1\" class=\"dataframe\">\n",
       "  <thead>\n",
       "    <tr style=\"text-align: right;\">\n",
       "      <th></th>\n",
       "      <th>id</th>\n",
       "      <th>brand</th>\n",
       "      <th>categories</th>\n",
       "      <th>colors</th>\n",
       "      <th>dateAdded</th>\n",
       "      <th>dateUpdated</th>\n",
       "      <th>descriptions</th>\n",
       "      <th>ean</th>\n",
       "      <th>features</th>\n",
       "      <th>imageURLs</th>\n",
       "      <th>...</th>\n",
       "      <th>prices.amountMax</th>\n",
       "      <th>prices.condition</th>\n",
       "      <th>prices.currency</th>\n",
       "      <th>prices.dateAdded</th>\n",
       "      <th>prices.dateSeen</th>\n",
       "      <th>prices.isSale</th>\n",
       "      <th>prices.merchant</th>\n",
       "      <th>prices.sourceURLs</th>\n",
       "      <th>sourceURLs</th>\n",
       "      <th>upc</th>\n",
       "    </tr>\n",
       "  </thead>\n",
       "  <tbody>\n",
       "    <tr>\n",
       "      <th>0</th>\n",
       "      <td>AVpfBXx21cnluZ0-cKxs</td>\n",
       "      <td>Zoot</td>\n",
       "      <td>Shoes,Clothing,Women's Shoes,All Women's Shoes</td>\n",
       "      <td>Blue,Multicolor</td>\n",
       "      <td>2016-11-11T09:49:00Z</td>\n",
       "      <td>2016-11-11T09:49:00Z</td>\n",
       "      <td>[{\"dateSeen\":[\"2016-11-11T09:49:00Z\"],\"sourceU...</td>\n",
       "      <td>NaN</td>\n",
       "      <td>[{\"key\":\"Season\",\"value\":[\"All-Season\"]},{\"key...</td>\n",
       "      <td>https://i5.walmartimages.com/asr/e04c07b2-5222...</td>\n",
       "      <td>...</td>\n",
       "      <td>71.99</td>\n",
       "      <td>NaN</td>\n",
       "      <td>USD</td>\n",
       "      <td>2016-11-11T09:49:00Z</td>\n",
       "      <td>2016-11-02T00:00:00Z</td>\n",
       "      <td>TRUE</td>\n",
       "      <td>NaN</td>\n",
       "      <td>https://www.walmart.com/ip/Zoot-TT-TRAINER-2.0...</td>\n",
       "      <td>https://www.walmart.com/ip/Zoot-TT-TRAINER-2.0...</td>\n",
       "      <td>NaN</td>\n",
       "    </tr>\n",
       "    <tr>\n",
       "      <th>1</th>\n",
       "      <td>AVpfBXx21cnluZ0-cKxs</td>\n",
       "      <td>Zoot</td>\n",
       "      <td>Shoes,Clothing,Women's Shoes,All Women's Shoes</td>\n",
       "      <td>Blue,Multicolor</td>\n",
       "      <td>2016-11-11T09:49:00Z</td>\n",
       "      <td>2016-11-11T09:49:00Z</td>\n",
       "      <td>[{\"dateSeen\":[\"2016-11-11T09:49:00Z\"],\"sourceU...</td>\n",
       "      <td>NaN</td>\n",
       "      <td>[{\"key\":\"Season\",\"value\":[\"All-Season\"]},{\"key...</td>\n",
       "      <td>https://i5.walmartimages.com/asr/e04c07b2-5222...</td>\n",
       "      <td>...</td>\n",
       "      <td>250</td>\n",
       "      <td>new</td>\n",
       "      <td>USD</td>\n",
       "      <td>2016-11-11T09:49:00Z</td>\n",
       "      <td>2016-10-27T00:00:00Z</td>\n",
       "      <td>FALSE</td>\n",
       "      <td>ApparelSave - Walmart.com</td>\n",
       "      <td>https://www.walmart.com/ip/Zoot-TT-TRAINER-2.0...</td>\n",
       "      <td>https://www.walmart.com/ip/Zoot-TT-TRAINER-2.0...</td>\n",
       "      <td>NaN</td>\n",
       "    </tr>\n",
       "    <tr>\n",
       "      <th>2</th>\n",
       "      <td>AVpfBXx21cnluZ0-cKxs</td>\n",
       "      <td>Zoot</td>\n",
       "      <td>Shoes,Clothing,Women's Shoes,All Women's Shoes</td>\n",
       "      <td>Blue,Multicolor</td>\n",
       "      <td>2016-11-11T09:49:00Z</td>\n",
       "      <td>2016-11-11T09:49:00Z</td>\n",
       "      <td>[{\"dateSeen\":[\"2016-11-11T09:49:00Z\"],\"sourceU...</td>\n",
       "      <td>NaN</td>\n",
       "      <td>[{\"key\":\"Season\",\"value\":[\"All-Season\"]},{\"key...</td>\n",
       "      <td>https://i5.walmartimages.com/asr/e04c07b2-5222...</td>\n",
       "      <td>...</td>\n",
       "      <td>75.99</td>\n",
       "      <td>new</td>\n",
       "      <td>USD</td>\n",
       "      <td>2016-11-11T09:49:00Z</td>\n",
       "      <td>2016-10-27T00:00:00Z</td>\n",
       "      <td>TRUE</td>\n",
       "      <td>ApparelSave - Walmart.com</td>\n",
       "      <td>https://www.walmart.com/ip/Zoot-TT-TRAINER-2.0...</td>\n",
       "      <td>https://www.walmart.com/ip/Zoot-TT-TRAINER-2.0...</td>\n",
       "      <td>NaN</td>\n",
       "    </tr>\n",
       "    <tr>\n",
       "      <th>3</th>\n",
       "      <td>AVpfBXx21cnluZ0-cKxs</td>\n",
       "      <td>Zoot</td>\n",
       "      <td>Shoes,Clothing,Women's Shoes,All Women's Shoes</td>\n",
       "      <td>Blue,Multicolor</td>\n",
       "      <td>2016-11-11T09:49:00Z</td>\n",
       "      <td>2016-11-11T09:49:00Z</td>\n",
       "      <td>[{\"dateSeen\":[\"2016-11-11T09:49:00Z\"],\"sourceU...</td>\n",
       "      <td>NaN</td>\n",
       "      <td>[{\"key\":\"Season\",\"value\":[\"All-Season\"]},{\"key...</td>\n",
       "      <td>https://i5.walmartimages.com/asr/e04c07b2-5222...</td>\n",
       "      <td>...</td>\n",
       "      <td>79.98</td>\n",
       "      <td>new</td>\n",
       "      <td>USD</td>\n",
       "      <td>2016-11-11T09:49:00Z</td>\n",
       "      <td>2016-11-09T00:00:00Z</td>\n",
       "      <td>TRUE</td>\n",
       "      <td>ApparelSave - Walmart.com</td>\n",
       "      <td>https://www.walmart.com/ip/Zoot-TT-TRAINER-2.0...</td>\n",
       "      <td>https://www.walmart.com/ip/Zoot-TT-TRAINER-2.0...</td>\n",
       "      <td>NaN</td>\n",
       "    </tr>\n",
       "    <tr>\n",
       "      <th>4</th>\n",
       "      <td>AVpfEqFRLJeJML431x7w</td>\n",
       "      <td>Wild Pair</td>\n",
       "      <td>Shoes,Women's Shoes,Clothing,All Women's Shoes</td>\n",
       "      <td>Brown</td>\n",
       "      <td>2016-11-16T12:56:36Z</td>\n",
       "      <td>2016-11-16T12:56:36Z</td>\n",
       "      <td>[{\"dateSeen\":[\"2016-11-16T12:56:36Z\"],\"sourceU...</td>\n",
       "      <td>7.631810e+11</td>\n",
       "      <td>[{\"key\":\"Heel Height\",\"value\":[\"High (3 in. an...</td>\n",
       "      <td>https://i5.walmartimages.com/asr/8b2c73f5-939f...</td>\n",
       "      <td>...</td>\n",
       "      <td>26.98</td>\n",
       "      <td>NaN</td>\n",
       "      <td>USD</td>\n",
       "      <td>2016-11-16T12:56:36Z</td>\n",
       "      <td>2016-11-09T00:00:00Z</td>\n",
       "      <td>TRUE</td>\n",
       "      <td>NaN</td>\n",
       "      <td>https://www.walmart.com/ip/Wild-Pair-Colfax-Wo...</td>\n",
       "      <td>https://www.walmart.com/ip/Wild-Pair-Colfax-Wo...</td>\n",
       "      <td>7.63181E+11</td>\n",
       "    </tr>\n",
       "  </tbody>\n",
       "</table>\n",
       "<p>5 rows × 25 columns</p>\n",
       "</div>"
      ],
      "text/plain": [
       "                     id      brand  \\\n",
       "0  AVpfBXx21cnluZ0-cKxs       Zoot   \n",
       "1  AVpfBXx21cnluZ0-cKxs       Zoot   \n",
       "2  AVpfBXx21cnluZ0-cKxs       Zoot   \n",
       "3  AVpfBXx21cnluZ0-cKxs       Zoot   \n",
       "4  AVpfEqFRLJeJML431x7w  Wild Pair   \n",
       "\n",
       "                                       categories           colors  \\\n",
       "0  Shoes,Clothing,Women's Shoes,All Women's Shoes  Blue,Multicolor   \n",
       "1  Shoes,Clothing,Women's Shoes,All Women's Shoes  Blue,Multicolor   \n",
       "2  Shoes,Clothing,Women's Shoes,All Women's Shoes  Blue,Multicolor   \n",
       "3  Shoes,Clothing,Women's Shoes,All Women's Shoes  Blue,Multicolor   \n",
       "4  Shoes,Women's Shoes,Clothing,All Women's Shoes            Brown   \n",
       "\n",
       "              dateAdded           dateUpdated  \\\n",
       "0  2016-11-11T09:49:00Z  2016-11-11T09:49:00Z   \n",
       "1  2016-11-11T09:49:00Z  2016-11-11T09:49:00Z   \n",
       "2  2016-11-11T09:49:00Z  2016-11-11T09:49:00Z   \n",
       "3  2016-11-11T09:49:00Z  2016-11-11T09:49:00Z   \n",
       "4  2016-11-16T12:56:36Z  2016-11-16T12:56:36Z   \n",
       "\n",
       "                                        descriptions           ean  \\\n",
       "0  [{\"dateSeen\":[\"2016-11-11T09:49:00Z\"],\"sourceU...           NaN   \n",
       "1  [{\"dateSeen\":[\"2016-11-11T09:49:00Z\"],\"sourceU...           NaN   \n",
       "2  [{\"dateSeen\":[\"2016-11-11T09:49:00Z\"],\"sourceU...           NaN   \n",
       "3  [{\"dateSeen\":[\"2016-11-11T09:49:00Z\"],\"sourceU...           NaN   \n",
       "4  [{\"dateSeen\":[\"2016-11-16T12:56:36Z\"],\"sourceU...  7.631810e+11   \n",
       "\n",
       "                                            features  \\\n",
       "0  [{\"key\":\"Season\",\"value\":[\"All-Season\"]},{\"key...   \n",
       "1  [{\"key\":\"Season\",\"value\":[\"All-Season\"]},{\"key...   \n",
       "2  [{\"key\":\"Season\",\"value\":[\"All-Season\"]},{\"key...   \n",
       "3  [{\"key\":\"Season\",\"value\":[\"All-Season\"]},{\"key...   \n",
       "4  [{\"key\":\"Heel Height\",\"value\":[\"High (3 in. an...   \n",
       "\n",
       "                                           imageURLs  ... prices.amountMax  \\\n",
       "0  https://i5.walmartimages.com/asr/e04c07b2-5222...  ...            71.99   \n",
       "1  https://i5.walmartimages.com/asr/e04c07b2-5222...  ...              250   \n",
       "2  https://i5.walmartimages.com/asr/e04c07b2-5222...  ...            75.99   \n",
       "3  https://i5.walmartimages.com/asr/e04c07b2-5222...  ...            79.98   \n",
       "4  https://i5.walmartimages.com/asr/8b2c73f5-939f...  ...            26.98   \n",
       "\n",
       "  prices.condition prices.currency      prices.dateAdded  \\\n",
       "0              NaN             USD  2016-11-11T09:49:00Z   \n",
       "1              new             USD  2016-11-11T09:49:00Z   \n",
       "2              new             USD  2016-11-11T09:49:00Z   \n",
       "3              new             USD  2016-11-11T09:49:00Z   \n",
       "4              NaN             USD  2016-11-16T12:56:36Z   \n",
       "\n",
       "        prices.dateSeen prices.isSale            prices.merchant  \\\n",
       "0  2016-11-02T00:00:00Z          TRUE                        NaN   \n",
       "1  2016-10-27T00:00:00Z         FALSE  ApparelSave - Walmart.com   \n",
       "2  2016-10-27T00:00:00Z          TRUE  ApparelSave - Walmart.com   \n",
       "3  2016-11-09T00:00:00Z          TRUE  ApparelSave - Walmart.com   \n",
       "4  2016-11-09T00:00:00Z          TRUE                        NaN   \n",
       "\n",
       "                                   prices.sourceURLs  \\\n",
       "0  https://www.walmart.com/ip/Zoot-TT-TRAINER-2.0...   \n",
       "1  https://www.walmart.com/ip/Zoot-TT-TRAINER-2.0...   \n",
       "2  https://www.walmart.com/ip/Zoot-TT-TRAINER-2.0...   \n",
       "3  https://www.walmart.com/ip/Zoot-TT-TRAINER-2.0...   \n",
       "4  https://www.walmart.com/ip/Wild-Pair-Colfax-Wo...   \n",
       "\n",
       "                                          sourceURLs          upc  \n",
       "0  https://www.walmart.com/ip/Zoot-TT-TRAINER-2.0...          NaN  \n",
       "1  https://www.walmart.com/ip/Zoot-TT-TRAINER-2.0...          NaN  \n",
       "2  https://www.walmart.com/ip/Zoot-TT-TRAINER-2.0...          NaN  \n",
       "3  https://www.walmart.com/ip/Zoot-TT-TRAINER-2.0...          NaN  \n",
       "4  https://www.walmart.com/ip/Wild-Pair-Colfax-Wo...  7.63181E+11  \n",
       "\n",
       "[5 rows x 25 columns]"
      ]
     },
     "execution_count": 6,
     "metadata": {},
     "output_type": "execute_result"
    }
   ],
   "source": [
    "df_new.head()"
   ]
  },
  {
   "cell_type": "markdown",
   "id": "afe4c9bf",
   "metadata": {
    "id": "afe4c9bf"
   },
   "source": [
    "### Section 1.3 Removing redundant columns"
   ]
  },
  {
   "cell_type": "code",
   "execution_count": 7,
   "id": "36f00ce3",
   "metadata": {
    "colab": {
     "base_uri": "https://localhost:8080/"
    },
    "id": "36f00ce3",
    "outputId": "02e60030-bb94-4f16-dd38-44d5b6d40688"
   },
   "outputs": [
    {
     "data": {
      "text/html": [
       "<div>\n",
       "<style scoped>\n",
       "    .dataframe tbody tr th:only-of-type {\n",
       "        vertical-align: middle;\n",
       "    }\n",
       "\n",
       "    .dataframe tbody tr th {\n",
       "        vertical-align: top;\n",
       "    }\n",
       "\n",
       "    .dataframe thead th {\n",
       "        text-align: right;\n",
       "    }\n",
       "</style>\n",
       "<table border=\"1\" class=\"dataframe\">\n",
       "  <thead>\n",
       "    <tr style=\"text-align: right;\">\n",
       "      <th></th>\n",
       "      <th>upc</th>\n",
       "      <th>ean</th>\n",
       "      <th>id</th>\n",
       "      <th>keys</th>\n",
       "    </tr>\n",
       "  </thead>\n",
       "  <tbody>\n",
       "    <tr>\n",
       "      <th>0</th>\n",
       "      <td>NaN</td>\n",
       "      <td>NaN</td>\n",
       "      <td>AVpfBXx21cnluZ0-cKxs</td>\n",
       "      <td>zoot/z130103201090</td>\n",
       "    </tr>\n",
       "    <tr>\n",
       "      <th>1</th>\n",
       "      <td>NaN</td>\n",
       "      <td>NaN</td>\n",
       "      <td>AVpfBXx21cnluZ0-cKxs</td>\n",
       "      <td>zoot/z130103201090</td>\n",
       "    </tr>\n",
       "    <tr>\n",
       "      <th>2</th>\n",
       "      <td>NaN</td>\n",
       "      <td>NaN</td>\n",
       "      <td>AVpfBXx21cnluZ0-cKxs</td>\n",
       "      <td>zoot/z130103201090</td>\n",
       "    </tr>\n",
       "    <tr>\n",
       "      <th>3</th>\n",
       "      <td>NaN</td>\n",
       "      <td>NaN</td>\n",
       "      <td>AVpfBXx21cnluZ0-cKxs</td>\n",
       "      <td>zoot/z130103201090</td>\n",
       "    </tr>\n",
       "    <tr>\n",
       "      <th>4</th>\n",
       "      <td>7.63181E+11</td>\n",
       "      <td>7.631810e+11</td>\n",
       "      <td>AVpfEqFRLJeJML431x7w</td>\n",
       "      <td>wildpair/colfaxcog,0763181233352,763181233352</td>\n",
       "    </tr>\n",
       "  </tbody>\n",
       "</table>\n",
       "</div>"
      ],
      "text/plain": [
       "           upc           ean                    id  \\\n",
       "0          NaN           NaN  AVpfBXx21cnluZ0-cKxs   \n",
       "1          NaN           NaN  AVpfBXx21cnluZ0-cKxs   \n",
       "2          NaN           NaN  AVpfBXx21cnluZ0-cKxs   \n",
       "3          NaN           NaN  AVpfBXx21cnluZ0-cKxs   \n",
       "4  7.63181E+11  7.631810e+11  AVpfEqFRLJeJML431x7w   \n",
       "\n",
       "                                            keys  \n",
       "0                             zoot/z130103201090  \n",
       "1                             zoot/z130103201090  \n",
       "2                             zoot/z130103201090  \n",
       "3                             zoot/z130103201090  \n",
       "4  wildpair/colfaxcog,0763181233352,763181233352  "
      ]
     },
     "execution_count": 7,
     "metadata": {},
     "output_type": "execute_result"
    }
   ],
   "source": [
    "'''\n",
    "UPC, EAN, ID and KEYS are some of the identity columns. Understanding which columns is well populated to uniquely identify the row\n",
    "It looks like the ID columns has 10000 unique values which is line with the total rows in the dataframe\n",
    "'''\n",
    "df_new[['upc','ean','id','keys']].head()"
   ]
  },
  {
   "cell_type": "code",
   "execution_count": 8,
   "id": "de7eff7f",
   "metadata": {},
   "outputs": [
    {
     "name": "stdout",
     "output_type": "stream",
     "text": [
      "UPC Unique_counts 2598\n",
      "EAN Unique_counts 2127\n",
      "ID Unique_counts 10000\n",
      "Keys Unique_counts 9983\n"
     ]
    }
   ],
   "source": [
    "print(\"UPC Unique_counts\",df_new['upc'].nunique())\n",
    "print(\"EAN Unique_counts\",df_new['ean'].nunique())\n",
    "print(\"ID Unique_counts\",df_new['id'].nunique())\n",
    "print(\"Keys Unique_counts\",df_new['keys'].nunique())"
   ]
  },
  {
   "cell_type": "code",
   "execution_count": 9,
   "id": "ef8f78bf",
   "metadata": {
    "colab": {
     "base_uri": "https://localhost:8080/"
    },
    "id": "ef8f78bf",
    "outputId": "78ca6c1e-3a64-464b-93fa-c871e955847c"
   },
   "outputs": [
    {
     "data": {
      "text/plain": [
       "Index(['id', 'brand', 'categories', 'colors', 'dateAdded', 'dateUpdated',\n",
       "       'descriptions', 'features', 'imageURLs', 'manufacturerNumber',\n",
       "       'merchants', 'name', 'prices.amountMin', 'prices.amountMax',\n",
       "       'prices.condition', 'prices.currency', 'prices.dateAdded',\n",
       "       'prices.dateSeen', 'prices.isSale', 'prices.merchant',\n",
       "       'prices.sourceURLs', 'sourceURLs'],\n",
       "      dtype='object')"
      ]
     },
     "execution_count": 9,
     "metadata": {},
     "output_type": "execute_result"
    }
   ],
   "source": [
    "'''\n",
    "Dropping the columns UPC, EAN and KEYS since they do not provide much insight into what we need\n",
    "'''\n",
    "df_new = df_new.drop(['upc','ean','keys'], axis=1)\n",
    "df_new.columns"
   ]
  },
  {
   "cell_type": "markdown",
   "id": "d742f418",
   "metadata": {
    "id": "d742f418"
   },
   "source": [
    "### Section 1.4 Datatype Conversion"
   ]
  },
  {
   "cell_type": "markdown",
   "id": "070ac4cb",
   "metadata": {
    "id": "070ac4cb"
   },
   "source": [
    "We have a date column `prices.dateAdded` apart from `dateAdded`, `dateUpdated` and `prices.dateSeen`"
   ]
  },
  {
   "cell_type": "code",
   "execution_count": 10,
   "id": "724f0bb1",
   "metadata": {
    "colab": {
     "base_uri": "https://localhost:8080/"
    },
    "id": "724f0bb1",
    "outputId": "33728ba1-7dad-4541-f88c-83c48f617e65"
   },
   "outputs": [
    {
     "name": "stdout",
     "output_type": "stream",
     "text": [
      "(19045, 22)\n",
      "Index(['id', 'brand', 'categories', 'colors', 'dateAdded', 'dateUpdated',\n",
      "       'descriptions', 'features', 'imageURLs', 'manufacturerNumber',\n",
      "       'merchants', 'name', 'prices.amountMin', 'prices.amountMax',\n",
      "       'prices.condition', 'prices.currency', 'prices.dateSeen',\n",
      "       'prices.isSale', 'prices.merchant', 'prices.sourceURLs', 'sourceURLs',\n",
      "       'price.dateSeen'],\n",
      "      dtype='object')\n"
     ]
    }
   ],
   "source": [
    "'''\n",
    "The prices.dateAdded column is redundant so there is a need to remove it\n",
    "Converting the remainder date based columns to datetime datatype\n",
    "'''\n",
    "df_new = df_new.drop(['prices.dateAdded'], axis=1)\n",
    "df_new['dateAdded']= pd.to_datetime(df_new['dateAdded'])\n",
    "df_new['dateUpdated']= pd.to_datetime(df_new['dateUpdated'])\n",
    "df_new['price.dateSeen']= pd.to_datetime(df_new['dateUpdated'])\n",
    "d = {'TRUE': True, 'FALSE': False}\n",
    "df_new['prices.isSale'] = df_new['prices.isSale'].map(d)\n",
    "print(df_new.shape)\n",
    "print(df_new.columns)"
   ]
  },
  {
   "cell_type": "markdown",
   "id": "08512659",
   "metadata": {
    "id": "08512659"
   },
   "source": [
    "### Section 1.5 Binning to reduce cardinality"
   ]
  },
  {
   "cell_type": "markdown",
   "id": "47e30bb0",
   "metadata": {
    "id": "47e30bb0"
   },
   "source": [
    "#### 1.5.1 Clubbing the \"brand\" column into buckets"
   ]
  },
  {
   "cell_type": "code",
   "execution_count": 11,
   "id": "a5a34fc4",
   "metadata": {
    "colab": {
     "base_uri": "https://localhost:8080/"
    },
    "id": "a5a34fc4",
    "outputId": "b678911a-b796-436f-b985-ed0df9e8a184"
   },
   "outputs": [
    {
     "data": {
      "text/plain": [
       "SMALL BRANDS     0.398530\n",
       "UNBRANDED        0.040746\n",
       "RALPH LAUREN     0.028616\n",
       "NIKE             0.019375\n",
       "TOMS             0.017222\n",
       "                   ...   \n",
       "TAFFY            0.001050\n",
       "P-JIW            0.001050\n",
       "TAHARI BY ASL    0.001050\n",
       "KEDS             0.001050\n",
       "SHOEVIBE         0.001050\n",
       "Name: brand, Length: 190, dtype: float64"
      ]
     },
     "execution_count": 11,
     "metadata": {},
     "output_type": "execute_result"
    }
   ],
   "source": [
    "'''\n",
    "In the data, there are various names that can be clubbed into the unbranded bucket\n",
    "1. First - replacing special characters in brand\n",
    "2. Make a list of terms that can fall under the unbranded bucket\n",
    "3. Make the changes in the original data\n",
    "\n",
    "Apart from this, there is a need to group small brands which have a low count\n",
    "1. Filter for value_counts() < n where n is the cutoff\n",
    "2. Give a tag of small brands to those that fall in the bracket of the previous step\n",
    "\n",
    "Expected output - Out of around 2000 brands, the count would have fallen to around 200\n",
    "'''\n",
    "\n",
    "df_new['brand'] = df_new['brand'].str.upper().str.strip().str.replace('@', 'a',  regex=True)\n",
    "unbranded = ['UNBRANDED/GENERIC','NON-BRANDED', 'GENERIC SURPLUS','GENERIC','UNBRAND','FAMOUS NAME BRAND']\n",
    "df_new['brand'].replace(unbranded, 'UNBRANDED', inplace = True)\n",
    "df_new['brand'].fillna(\"UNBRANDED\", inplace = True)\n",
    "\n",
    "ls = df_new['brand'].value_counts()[df_new['brand'].value_counts() < 20]\n",
    "ls = list(ls.index)\n",
    "temp1 = df_new['brand'].isin(ls)\n",
    "df_new.loc[temp1, 'brand'] = 'small brands'\n",
    "df_new['brand'] = df_new['brand'].str.upper()\n",
    "df_new['brand'].value_counts(normalize=True)"
   ]
  },
  {
   "cell_type": "markdown",
   "id": "1a03d1e8",
   "metadata": {
    "id": "1a03d1e8"
   },
   "source": [
    "#### 1.5.2 Clubbing shoe types into broader categories"
   ]
  },
  {
   "cell_type": "code",
   "execution_count": 12,
   "id": "243082cc",
   "metadata": {
    "colab": {
     "base_uri": "https://localhost:8080/"
    },
    "id": "243082cc",
    "outputId": "61841a4c-4395-4d4e-c354-fe09f8453a54"
   },
   "outputs": [
    {
     "name": "stdout",
     "output_type": "stream",
     "text": [
      "Shoes,Women's Shoes,Clothing,All Women's Shoes                                                                                        2887\n",
      "Clothing,Shoes,Women's Shoes,All Women's Shoes                                                                                        2313\n",
      "Shoes,Clothing,Women's Shoes,All Women's Shoes                                                                                        2064\n",
      "Athletic,Women,Shoes,Shoes & Handbags                                                                                                  363\n",
      "Women,Shoes,Boots                                                                                                                      223\n",
      "                                                                                                                                      ... \n",
      "Clothing,Clothing, Shoes & Jewelry,Women,Coats, Jackets & Vests,Trench, Rain & Anoraks,Trench Coats                                      1\n",
      "Clothing, Shoes & Accessories,Women's Clothing,Athletic Apparel,See more Ideology Womens Pink Space Dye 6521 Performanc...               1\n",
      "Women,Jumpsuits, Rompers & Overalls,Clothing, Shoes & Jewelry,Clothing                                                                   1\n",
      "Clothing, Shoes & Accessories,Women's Accessories,Sunglasses & Fashion Eyewear,Sunglasses,Wholesale, Large & Small Lots,Mixed Lots       1\n",
      "Watches,Clothing, Shoes & Jewelry,Women,Wrist Watches,Jewelry & Watches,Wristwatches                                                     1\n",
      "Name: categories, Length: 1064, dtype: int64\n",
      "(10962, 22)\n"
     ]
    }
   ],
   "source": [
    "'''Quickly checking the value counts before we group things\n",
    "Initial analysis state that there are records in categories that have a category that is not \"shoes\"\n",
    "We can remove those\n",
    "'''\n",
    "\n",
    "print(df_new['categories'].value_counts())\n",
    "not_shoes = 'boy|skirt|accessories|jewelry|bag|luggage'\n",
    "df_new.drop(df_new[df_new['categories'].str.lower().str.contains(not_shoes)].index, inplace = True)\n",
    "print(df_new.shape)"
   ]
  },
  {
   "cell_type": "code",
   "execution_count": 13,
   "id": "3e2dce57",
   "metadata": {
    "colab": {
     "base_uri": "https://localhost:8080/"
    },
    "id": "3e2dce57",
    "outputId": "1919b2c0-7e0b-4e20-a080-ec6710cac74d"
   },
   "outputs": [
    {
     "name": "stdout",
     "output_type": "stream",
     "text": [
      "Other Women Shoes    7822\n",
      "Sandals              1113\n",
      "Boots                 881\n",
      "Causual               652\n",
      "Sports                486\n",
      "Heels                   5\n",
      "Kids                    2\n",
      "Design                  1\n",
      "Name: categories, dtype: int64\n"
     ]
    }
   ],
   "source": [
    "'''\n",
    "There are various categories of shoes in the dataset that fall mainly under the category of boots, heels, sandals etc.\n",
    "Goal is to find these occurrences and replace them with the broader category thereby reducing the cardinality\n",
    "\n",
    "Output :\n",
    "        A cleaned categories column that has only a small set of categories\n",
    "'''\n",
    "boots = 'boots|boot|bootie|booties|calf|leather|work|oxfords|pu|paten'\n",
    "df_new.loc[df_new['categories'].str.lower().str.contains(boots), 'categories'] = 'Boots'\n",
    "\n",
    "heels = 'pump|heels|stiletto|wedge|platform'\n",
    "df_new.loc[df_new['categories'].str.lower().str.contains(heels), 'categories'] = 'Heels'\n",
    "\n",
    "sandals = 'sandal|gladiator|flip|flop|slipper|slide|flat'\n",
    "df_new.loc[df_new['categories'].str.lower().str.contains(sandals), 'categories'] = 'Sandals'\n",
    "\n",
    "\n",
    "sports = 'walking|cleats|access|athletic|basketball|golf|sport|run|running|trainin|gym|fitness|climb|soccer|outdoor|hiking|hike|skecher|balance|fila|asics|Easy Spirit|trainer|adidas|puma|reebok|nike'\n",
    "df_new.loc[df_new['categories'].str.lower().str.contains(sports), 'categories'] = 'Sports'\n",
    "\n",
    "causual = 'comfort|toning|patio|sinclair|casual|contemporary|sneaker|slip-on|clog|round|toe|converse|canvas|mule|moccasin|flat|Bahama|espadrille|loafer|skechers'\n",
    "df_new.loc[df_new['categories'].str.lower().str.contains(causual), 'categories'] = 'Causual'\n",
    "\n",
    "kids = 'kid|girl|child|school|uniform|toy'\n",
    "df_new.loc[df_new['categories'].str.lower().str.contains(kids), 'categories'] = 'Kids'\n",
    "\n",
    "design = 'design'\n",
    "df_new.loc[df_new['categories'].str.lower().str.contains(design), 'categories'] = 'Design'\n",
    "\n",
    "women_shoes = 'women|woman'\n",
    "df_new.loc[df_new['categories'].str.lower().str.contains(women_shoes), 'categories'] = 'Other Women Shoes'\n",
    "\n",
    "print(df_new['categories'].value_counts())"
   ]
  },
  {
   "cell_type": "code",
   "execution_count": 14,
   "id": "691a7828",
   "metadata": {
    "colab": {
     "base_uri": "https://localhost:8080/",
     "height": 423
    },
    "id": "691a7828",
    "outputId": "70c6c306-2ba0-4cd6-cadf-a365f80ef4ea"
   },
   "outputs": [
    {
     "data": {
      "text/html": [
       "<div>\n",
       "<style scoped>\n",
       "    .dataframe tbody tr th:only-of-type {\n",
       "        vertical-align: middle;\n",
       "    }\n",
       "\n",
       "    .dataframe tbody tr th {\n",
       "        vertical-align: top;\n",
       "    }\n",
       "\n",
       "    .dataframe thead th {\n",
       "        text-align: right;\n",
       "    }\n",
       "</style>\n",
       "<table border=\"1\" class=\"dataframe\">\n",
       "  <thead>\n",
       "    <tr style=\"text-align: right;\">\n",
       "      <th></th>\n",
       "      <th>id</th>\n",
       "      <th>brand</th>\n",
       "      <th>categories</th>\n",
       "      <th>colors</th>\n",
       "      <th>dateAdded</th>\n",
       "      <th>dateUpdated</th>\n",
       "      <th>descriptions</th>\n",
       "      <th>features</th>\n",
       "      <th>imageURLs</th>\n",
       "      <th>manufacturerNumber</th>\n",
       "      <th>...</th>\n",
       "      <th>prices.amountMin</th>\n",
       "      <th>prices.amountMax</th>\n",
       "      <th>prices.condition</th>\n",
       "      <th>prices.currency</th>\n",
       "      <th>prices.dateSeen</th>\n",
       "      <th>prices.isSale</th>\n",
       "      <th>prices.merchant</th>\n",
       "      <th>prices.sourceURLs</th>\n",
       "      <th>sourceURLs</th>\n",
       "      <th>price.dateSeen</th>\n",
       "    </tr>\n",
       "  </thead>\n",
       "  <tbody>\n",
       "    <tr>\n",
       "      <th>0</th>\n",
       "      <td>AVpfBXx21cnluZ0-cKxs</td>\n",
       "      <td>SMALL BRANDS</td>\n",
       "      <td>Other Women Shoes</td>\n",
       "      <td>Blue,Multicolor</td>\n",
       "      <td>2016-11-11 09:49:00+00:00</td>\n",
       "      <td>2016-11-11 09:49:00+00:00</td>\n",
       "      <td>[{\"dateSeen\":[\"2016-11-11T09:49:00Z\"],\"sourceU...</td>\n",
       "      <td>[{\"key\":\"Season\",\"value\":[\"All-Season\"]},{\"key...</td>\n",
       "      <td>https://i5.walmartimages.com/asr/e04c07b2-5222...</td>\n",
       "      <td>Z130103201090</td>\n",
       "      <td>...</td>\n",
       "      <td>71.99</td>\n",
       "      <td>71.99</td>\n",
       "      <td>NaN</td>\n",
       "      <td>USD</td>\n",
       "      <td>2016-11-02T00:00:00Z</td>\n",
       "      <td>True</td>\n",
       "      <td>NaN</td>\n",
       "      <td>https://www.walmart.com/ip/Zoot-TT-TRAINER-2.0...</td>\n",
       "      <td>https://www.walmart.com/ip/Zoot-TT-TRAINER-2.0...</td>\n",
       "      <td>2016-11-11 09:49:00+00:00</td>\n",
       "    </tr>\n",
       "    <tr>\n",
       "      <th>1</th>\n",
       "      <td>AVpfBXx21cnluZ0-cKxs</td>\n",
       "      <td>SMALL BRANDS</td>\n",
       "      <td>Other Women Shoes</td>\n",
       "      <td>Blue,Multicolor</td>\n",
       "      <td>2016-11-11 09:49:00+00:00</td>\n",
       "      <td>2016-11-11 09:49:00+00:00</td>\n",
       "      <td>[{\"dateSeen\":[\"2016-11-11T09:49:00Z\"],\"sourceU...</td>\n",
       "      <td>[{\"key\":\"Season\",\"value\":[\"All-Season\"]},{\"key...</td>\n",
       "      <td>https://i5.walmartimages.com/asr/e04c07b2-5222...</td>\n",
       "      <td>Z130103201090</td>\n",
       "      <td>...</td>\n",
       "      <td>250</td>\n",
       "      <td>250</td>\n",
       "      <td>new</td>\n",
       "      <td>USD</td>\n",
       "      <td>2016-10-27T00:00:00Z</td>\n",
       "      <td>False</td>\n",
       "      <td>ApparelSave - Walmart.com</td>\n",
       "      <td>https://www.walmart.com/ip/Zoot-TT-TRAINER-2.0...</td>\n",
       "      <td>https://www.walmart.com/ip/Zoot-TT-TRAINER-2.0...</td>\n",
       "      <td>2016-11-11 09:49:00+00:00</td>\n",
       "    </tr>\n",
       "    <tr>\n",
       "      <th>2</th>\n",
       "      <td>AVpfBXx21cnluZ0-cKxs</td>\n",
       "      <td>SMALL BRANDS</td>\n",
       "      <td>Other Women Shoes</td>\n",
       "      <td>Blue,Multicolor</td>\n",
       "      <td>2016-11-11 09:49:00+00:00</td>\n",
       "      <td>2016-11-11 09:49:00+00:00</td>\n",
       "      <td>[{\"dateSeen\":[\"2016-11-11T09:49:00Z\"],\"sourceU...</td>\n",
       "      <td>[{\"key\":\"Season\",\"value\":[\"All-Season\"]},{\"key...</td>\n",
       "      <td>https://i5.walmartimages.com/asr/e04c07b2-5222...</td>\n",
       "      <td>Z130103201090</td>\n",
       "      <td>...</td>\n",
       "      <td>75.99</td>\n",
       "      <td>75.99</td>\n",
       "      <td>new</td>\n",
       "      <td>USD</td>\n",
       "      <td>2016-10-27T00:00:00Z</td>\n",
       "      <td>True</td>\n",
       "      <td>ApparelSave - Walmart.com</td>\n",
       "      <td>https://www.walmart.com/ip/Zoot-TT-TRAINER-2.0...</td>\n",
       "      <td>https://www.walmart.com/ip/Zoot-TT-TRAINER-2.0...</td>\n",
       "      <td>2016-11-11 09:49:00+00:00</td>\n",
       "    </tr>\n",
       "    <tr>\n",
       "      <th>3</th>\n",
       "      <td>AVpfBXx21cnluZ0-cKxs</td>\n",
       "      <td>SMALL BRANDS</td>\n",
       "      <td>Other Women Shoes</td>\n",
       "      <td>Blue,Multicolor</td>\n",
       "      <td>2016-11-11 09:49:00+00:00</td>\n",
       "      <td>2016-11-11 09:49:00+00:00</td>\n",
       "      <td>[{\"dateSeen\":[\"2016-11-11T09:49:00Z\"],\"sourceU...</td>\n",
       "      <td>[{\"key\":\"Season\",\"value\":[\"All-Season\"]},{\"key...</td>\n",
       "      <td>https://i5.walmartimages.com/asr/e04c07b2-5222...</td>\n",
       "      <td>Z130103201090</td>\n",
       "      <td>...</td>\n",
       "      <td>79.98</td>\n",
       "      <td>79.98</td>\n",
       "      <td>new</td>\n",
       "      <td>USD</td>\n",
       "      <td>2016-11-09T00:00:00Z</td>\n",
       "      <td>True</td>\n",
       "      <td>ApparelSave - Walmart.com</td>\n",
       "      <td>https://www.walmart.com/ip/Zoot-TT-TRAINER-2.0...</td>\n",
       "      <td>https://www.walmart.com/ip/Zoot-TT-TRAINER-2.0...</td>\n",
       "      <td>2016-11-11 09:49:00+00:00</td>\n",
       "    </tr>\n",
       "    <tr>\n",
       "      <th>4</th>\n",
       "      <td>AVpfEqFRLJeJML431x7w</td>\n",
       "      <td>WILD PAIR</td>\n",
       "      <td>Other Women Shoes</td>\n",
       "      <td>Brown</td>\n",
       "      <td>2016-11-16 12:56:36+00:00</td>\n",
       "      <td>2016-11-16 12:56:36+00:00</td>\n",
       "      <td>[{\"dateSeen\":[\"2016-11-16T12:56:36Z\"],\"sourceU...</td>\n",
       "      <td>[{\"key\":\"Heel Height\",\"value\":[\"High (3 in. an...</td>\n",
       "      <td>https://i5.walmartimages.com/asr/8b2c73f5-939f...</td>\n",
       "      <td>COLFAX-COG</td>\n",
       "      <td>...</td>\n",
       "      <td>26.98</td>\n",
       "      <td>26.98</td>\n",
       "      <td>NaN</td>\n",
       "      <td>USD</td>\n",
       "      <td>2016-11-09T00:00:00Z</td>\n",
       "      <td>True</td>\n",
       "      <td>NaN</td>\n",
       "      <td>https://www.walmart.com/ip/Wild-Pair-Colfax-Wo...</td>\n",
       "      <td>https://www.walmart.com/ip/Wild-Pair-Colfax-Wo...</td>\n",
       "      <td>2016-11-16 12:56:36+00:00</td>\n",
       "    </tr>\n",
       "  </tbody>\n",
       "</table>\n",
       "<p>5 rows × 22 columns</p>\n",
       "</div>"
      ],
      "text/plain": [
       "                     id         brand         categories           colors  \\\n",
       "0  AVpfBXx21cnluZ0-cKxs  SMALL BRANDS  Other Women Shoes  Blue,Multicolor   \n",
       "1  AVpfBXx21cnluZ0-cKxs  SMALL BRANDS  Other Women Shoes  Blue,Multicolor   \n",
       "2  AVpfBXx21cnluZ0-cKxs  SMALL BRANDS  Other Women Shoes  Blue,Multicolor   \n",
       "3  AVpfBXx21cnluZ0-cKxs  SMALL BRANDS  Other Women Shoes  Blue,Multicolor   \n",
       "4  AVpfEqFRLJeJML431x7w     WILD PAIR  Other Women Shoes            Brown   \n",
       "\n",
       "                  dateAdded               dateUpdated  \\\n",
       "0 2016-11-11 09:49:00+00:00 2016-11-11 09:49:00+00:00   \n",
       "1 2016-11-11 09:49:00+00:00 2016-11-11 09:49:00+00:00   \n",
       "2 2016-11-11 09:49:00+00:00 2016-11-11 09:49:00+00:00   \n",
       "3 2016-11-11 09:49:00+00:00 2016-11-11 09:49:00+00:00   \n",
       "4 2016-11-16 12:56:36+00:00 2016-11-16 12:56:36+00:00   \n",
       "\n",
       "                                        descriptions  \\\n",
       "0  [{\"dateSeen\":[\"2016-11-11T09:49:00Z\"],\"sourceU...   \n",
       "1  [{\"dateSeen\":[\"2016-11-11T09:49:00Z\"],\"sourceU...   \n",
       "2  [{\"dateSeen\":[\"2016-11-11T09:49:00Z\"],\"sourceU...   \n",
       "3  [{\"dateSeen\":[\"2016-11-11T09:49:00Z\"],\"sourceU...   \n",
       "4  [{\"dateSeen\":[\"2016-11-16T12:56:36Z\"],\"sourceU...   \n",
       "\n",
       "                                            features  \\\n",
       "0  [{\"key\":\"Season\",\"value\":[\"All-Season\"]},{\"key...   \n",
       "1  [{\"key\":\"Season\",\"value\":[\"All-Season\"]},{\"key...   \n",
       "2  [{\"key\":\"Season\",\"value\":[\"All-Season\"]},{\"key...   \n",
       "3  [{\"key\":\"Season\",\"value\":[\"All-Season\"]},{\"key...   \n",
       "4  [{\"key\":\"Heel Height\",\"value\":[\"High (3 in. an...   \n",
       "\n",
       "                                           imageURLs manufacturerNumber  ...  \\\n",
       "0  https://i5.walmartimages.com/asr/e04c07b2-5222...      Z130103201090  ...   \n",
       "1  https://i5.walmartimages.com/asr/e04c07b2-5222...      Z130103201090  ...   \n",
       "2  https://i5.walmartimages.com/asr/e04c07b2-5222...      Z130103201090  ...   \n",
       "3  https://i5.walmartimages.com/asr/e04c07b2-5222...      Z130103201090  ...   \n",
       "4  https://i5.walmartimages.com/asr/8b2c73f5-939f...         COLFAX-COG  ...   \n",
       "\n",
       "  prices.amountMin prices.amountMax prices.condition prices.currency  \\\n",
       "0            71.99            71.99              NaN             USD   \n",
       "1              250              250              new             USD   \n",
       "2            75.99            75.99              new             USD   \n",
       "3            79.98            79.98              new             USD   \n",
       "4            26.98            26.98              NaN             USD   \n",
       "\n",
       "        prices.dateSeen prices.isSale            prices.merchant  \\\n",
       "0  2016-11-02T00:00:00Z          True                        NaN   \n",
       "1  2016-10-27T00:00:00Z         False  ApparelSave - Walmart.com   \n",
       "2  2016-10-27T00:00:00Z          True  ApparelSave - Walmart.com   \n",
       "3  2016-11-09T00:00:00Z          True  ApparelSave - Walmart.com   \n",
       "4  2016-11-09T00:00:00Z          True                        NaN   \n",
       "\n",
       "                                   prices.sourceURLs  \\\n",
       "0  https://www.walmart.com/ip/Zoot-TT-TRAINER-2.0...   \n",
       "1  https://www.walmart.com/ip/Zoot-TT-TRAINER-2.0...   \n",
       "2  https://www.walmart.com/ip/Zoot-TT-TRAINER-2.0...   \n",
       "3  https://www.walmart.com/ip/Zoot-TT-TRAINER-2.0...   \n",
       "4  https://www.walmart.com/ip/Wild-Pair-Colfax-Wo...   \n",
       "\n",
       "                                          sourceURLs            price.dateSeen  \n",
       "0  https://www.walmart.com/ip/Zoot-TT-TRAINER-2.0... 2016-11-11 09:49:00+00:00  \n",
       "1  https://www.walmart.com/ip/Zoot-TT-TRAINER-2.0... 2016-11-11 09:49:00+00:00  \n",
       "2  https://www.walmart.com/ip/Zoot-TT-TRAINER-2.0... 2016-11-11 09:49:00+00:00  \n",
       "3  https://www.walmart.com/ip/Zoot-TT-TRAINER-2.0... 2016-11-11 09:49:00+00:00  \n",
       "4  https://www.walmart.com/ip/Wild-Pair-Colfax-Wo... 2016-11-16 12:56:36+00:00  \n",
       "\n",
       "[5 rows x 22 columns]"
      ]
     },
     "execution_count": 14,
     "metadata": {},
     "output_type": "execute_result"
    }
   ],
   "source": [
    "df_new.head()"
   ]
  },
  {
   "cell_type": "code",
   "execution_count": 15,
   "id": "5c26728c",
   "metadata": {
    "id": "5c26728c"
   },
   "outputs": [],
   "source": [
    "#Saving to CSV incase one needs a checkpoint\n",
    "df_new.to_csv('data_womens_shoes.csv',index = False)"
   ]
  },
  {
   "cell_type": "markdown",
   "id": "CWQAIkxQZwSy",
   "metadata": {
    "id": "CWQAIkxQZwSy"
   },
   "source": [
    "## Section 2: Visualizations"
   ]
  },
  {
   "cell_type": "markdown",
   "id": "xXd-JJ2IZ6x6",
   "metadata": {
    "id": "xXd-JJ2IZ6x6"
   },
   "source": [
    "<b> In this section we aim at doing the following -  </b>\n",
    "\n",
    "\n",
    "    2.1 Data Cleaning of color and price column\n",
    "\n",
    "    2.2 Column renaming + datatype change\n",
    "\n",
    "    2.3 Visualization 1\n",
    "\n",
    "    2.4 Visualization 2\n",
    "\n",
    "    2.5 Visualization 3\n",
    "\n",
    "    2.6 Visualization 4\n"
   ]
  },
  {
   "cell_type": "markdown",
   "id": "6afQKn6gacik",
   "metadata": {
    "id": "6afQKn6gacik"
   },
   "source": [
    "### Section 2.1 Data Cleaning of brand and color column"
   ]
  },
  {
   "cell_type": "code",
   "execution_count": 16,
   "id": "a2ed8e45",
   "metadata": {
    "id": "a2ed8e45"
   },
   "outputs": [
    {
     "data": {
      "text/plain": [
       "SMALL BRANDS       3579\n",
       "RALPH LAUREN        535\n",
       "TOMS                327\n",
       "NIKE                246\n",
       "MUK LUKS            235\n",
       "                   ... \n",
       "DOLCE & GABBANA       2\n",
       "DDI                   2\n",
       "JONES NEW YORK        1\n",
       "BONGO                 1\n",
       "DICKIES               1\n",
       "Name: brand, Length: 138, dtype: int64"
      ]
     },
     "execution_count": 16,
     "metadata": {},
     "output_type": "execute_result"
    }
   ],
   "source": [
    "df_new['colors'].fillna('No_Color', inplace=True)\n",
    "df_new['brand'].value_counts()"
   ]
  },
  {
   "cell_type": "markdown",
   "id": "WErbTn_Qa2um",
   "metadata": {
    "id": "WErbTn_Qa2um"
   },
   "source": [
    "### Section 2.2 Column Renaming + Datatype change"
   ]
  },
  {
   "cell_type": "code",
   "execution_count": 17,
   "id": "03e1bfce",
   "metadata": {
    "colab": {
     "base_uri": "https://localhost:8080/"
    },
    "id": "03e1bfce",
    "outputId": "f25be484-f9d0-48fa-a997-ccbc8f825e95"
   },
   "outputs": [
    {
     "name": "stdout",
     "output_type": "stream",
     "text": [
      "Before typecasting \n",
      " id                                 object\n",
      "brand                              object\n",
      "categories                         object\n",
      "colors                             object\n",
      "dateAdded             datetime64[ns, UTC]\n",
      "dateUpdated           datetime64[ns, UTC]\n",
      "descriptions                       object\n",
      "features                           object\n",
      "imageURLs                          object\n",
      "manufacturerNumber                 object\n",
      "merchants                          object\n",
      "name                               object\n",
      "prices.amountMin                   object\n",
      "PriceMax                          float64\n",
      "prices.condition                   object\n",
      "prices.currency                    object\n",
      "prices.dateSeen                    object\n",
      "prices.isSale                      object\n",
      "prices.merchant                    object\n",
      "prices.sourceURLs                  object\n",
      "sourceURLs                         object\n",
      "price.dateSeen        datetime64[ns, UTC]\n",
      "dtype: object\n",
      "\n",
      "\n",
      "After typecasting \n",
      " id                                 object\n",
      "brand                              object\n",
      "categories                         object\n",
      "colors                             object\n",
      "dateAdded             datetime64[ns, UTC]\n",
      "dateUpdated           datetime64[ns, UTC]\n",
      "descriptions                       object\n",
      "features                           object\n",
      "imageURLs                          object\n",
      "manufacturerNumber                 object\n",
      "merchants                          object\n",
      "name                               object\n",
      "prices.amountMin                   object\n",
      "PriceMax                          float64\n",
      "prices.condition                   object\n",
      "prices.currency                    object\n",
      "prices.dateSeen                    object\n",
      "prices.isSale                     float64\n",
      "prices.merchant                    object\n",
      "prices.sourceURLs                  object\n",
      "sourceURLs                         object\n",
      "price.dateSeen        datetime64[ns, UTC]\n",
      "dtype: object\n"
     ]
    }
   ],
   "source": [
    "def type_conversion(data1):\n",
    "\n",
    "  '''\n",
    "  Input :\n",
    "        1. Dataframe -  data1\n",
    "  Output :\n",
    "        1. Dataframe - typecasted dataframe\n",
    "  '''\n",
    "  for i in data1.columns:\n",
    "      try:\n",
    "          data1[i] = data1[i].astype(float)\n",
    "      except ValueError:\n",
    "          data1[i]=data1[i]\n",
    "      except TypeError:\n",
    "          data1[i]=data1[i]\n",
    "  return data1\n",
    "\n",
    "df_new.rename(columns={\"prices.amountMax\": \"PriceMax\"}, inplace=True)\n",
    "# df_new['PriceMax'] = df_new['PriceMax'].str.replace('[^\\d.]', '', regex=True)\n",
    "df_new['PriceMax'] = pd.to_numeric(df_new['PriceMax'], errors='coerce')\n",
    "df_new = df_new.drop(df_new[df_new['brand'] == \"UNBRANDED\"].index) #Avoiding unbranded in the analysis\n",
    "\n",
    "print(\"Before typecasting \\n\", df_new.dtypes)\n",
    "df_new=type_conversion(df_new)\n",
    "print(\"\\n\")\n",
    "print(\"After typecasting \\n\", df_new.dtypes)"
   ]
  },
  {
   "cell_type": "code",
   "execution_count": 18,
   "id": "58d4e56e",
   "metadata": {
    "colab": {
     "base_uri": "https://localhost:8080/",
     "height": 423
    },
    "id": "58d4e56e",
    "outputId": "571cbec0-25c0-4124-8b52-28589cef7d94"
   },
   "outputs": [
    {
     "data": {
      "text/html": [
       "<div>\n",
       "<style scoped>\n",
       "    .dataframe tbody tr th:only-of-type {\n",
       "        vertical-align: middle;\n",
       "    }\n",
       "\n",
       "    .dataframe tbody tr th {\n",
       "        vertical-align: top;\n",
       "    }\n",
       "\n",
       "    .dataframe thead th {\n",
       "        text-align: right;\n",
       "    }\n",
       "</style>\n",
       "<table border=\"1\" class=\"dataframe\">\n",
       "  <thead>\n",
       "    <tr style=\"text-align: right;\">\n",
       "      <th></th>\n",
       "      <th>id</th>\n",
       "      <th>brand</th>\n",
       "      <th>categories</th>\n",
       "      <th>colors</th>\n",
       "      <th>dateAdded</th>\n",
       "      <th>dateUpdated</th>\n",
       "      <th>descriptions</th>\n",
       "      <th>features</th>\n",
       "      <th>imageURLs</th>\n",
       "      <th>manufacturerNumber</th>\n",
       "      <th>...</th>\n",
       "      <th>prices.amountMin</th>\n",
       "      <th>PriceMax</th>\n",
       "      <th>prices.condition</th>\n",
       "      <th>prices.currency</th>\n",
       "      <th>prices.dateSeen</th>\n",
       "      <th>prices.isSale</th>\n",
       "      <th>prices.merchant</th>\n",
       "      <th>prices.sourceURLs</th>\n",
       "      <th>sourceURLs</th>\n",
       "      <th>price.dateSeen</th>\n",
       "    </tr>\n",
       "  </thead>\n",
       "  <tbody>\n",
       "    <tr>\n",
       "      <th>0</th>\n",
       "      <td>AVpfBXx21cnluZ0-cKxs</td>\n",
       "      <td>SMALL BRANDS</td>\n",
       "      <td>Other Women Shoes</td>\n",
       "      <td>Blue,Multicolor</td>\n",
       "      <td>2016-11-11 09:49:00+00:00</td>\n",
       "      <td>2016-11-11 09:49:00+00:00</td>\n",
       "      <td>[{\"dateSeen\":[\"2016-11-11T09:49:00Z\"],\"sourceU...</td>\n",
       "      <td>[{\"key\":\"Season\",\"value\":[\"All-Season\"]},{\"key...</td>\n",
       "      <td>https://i5.walmartimages.com/asr/e04c07b2-5222...</td>\n",
       "      <td>Z130103201090</td>\n",
       "      <td>...</td>\n",
       "      <td>71.99</td>\n",
       "      <td>71.99</td>\n",
       "      <td>NaN</td>\n",
       "      <td>USD</td>\n",
       "      <td>2016-11-02T00:00:00Z</td>\n",
       "      <td>1.0</td>\n",
       "      <td>NaN</td>\n",
       "      <td>https://www.walmart.com/ip/Zoot-TT-TRAINER-2.0...</td>\n",
       "      <td>https://www.walmart.com/ip/Zoot-TT-TRAINER-2.0...</td>\n",
       "      <td>2016-11-11 09:49:00+00:00</td>\n",
       "    </tr>\n",
       "    <tr>\n",
       "      <th>1</th>\n",
       "      <td>AVpfBXx21cnluZ0-cKxs</td>\n",
       "      <td>SMALL BRANDS</td>\n",
       "      <td>Other Women Shoes</td>\n",
       "      <td>Blue,Multicolor</td>\n",
       "      <td>2016-11-11 09:49:00+00:00</td>\n",
       "      <td>2016-11-11 09:49:00+00:00</td>\n",
       "      <td>[{\"dateSeen\":[\"2016-11-11T09:49:00Z\"],\"sourceU...</td>\n",
       "      <td>[{\"key\":\"Season\",\"value\":[\"All-Season\"]},{\"key...</td>\n",
       "      <td>https://i5.walmartimages.com/asr/e04c07b2-5222...</td>\n",
       "      <td>Z130103201090</td>\n",
       "      <td>...</td>\n",
       "      <td>250</td>\n",
       "      <td>250.00</td>\n",
       "      <td>new</td>\n",
       "      <td>USD</td>\n",
       "      <td>2016-10-27T00:00:00Z</td>\n",
       "      <td>0.0</td>\n",
       "      <td>ApparelSave - Walmart.com</td>\n",
       "      <td>https://www.walmart.com/ip/Zoot-TT-TRAINER-2.0...</td>\n",
       "      <td>https://www.walmart.com/ip/Zoot-TT-TRAINER-2.0...</td>\n",
       "      <td>2016-11-11 09:49:00+00:00</td>\n",
       "    </tr>\n",
       "    <tr>\n",
       "      <th>2</th>\n",
       "      <td>AVpfBXx21cnluZ0-cKxs</td>\n",
       "      <td>SMALL BRANDS</td>\n",
       "      <td>Other Women Shoes</td>\n",
       "      <td>Blue,Multicolor</td>\n",
       "      <td>2016-11-11 09:49:00+00:00</td>\n",
       "      <td>2016-11-11 09:49:00+00:00</td>\n",
       "      <td>[{\"dateSeen\":[\"2016-11-11T09:49:00Z\"],\"sourceU...</td>\n",
       "      <td>[{\"key\":\"Season\",\"value\":[\"All-Season\"]},{\"key...</td>\n",
       "      <td>https://i5.walmartimages.com/asr/e04c07b2-5222...</td>\n",
       "      <td>Z130103201090</td>\n",
       "      <td>...</td>\n",
       "      <td>75.99</td>\n",
       "      <td>75.99</td>\n",
       "      <td>new</td>\n",
       "      <td>USD</td>\n",
       "      <td>2016-10-27T00:00:00Z</td>\n",
       "      <td>1.0</td>\n",
       "      <td>ApparelSave - Walmart.com</td>\n",
       "      <td>https://www.walmart.com/ip/Zoot-TT-TRAINER-2.0...</td>\n",
       "      <td>https://www.walmart.com/ip/Zoot-TT-TRAINER-2.0...</td>\n",
       "      <td>2016-11-11 09:49:00+00:00</td>\n",
       "    </tr>\n",
       "    <tr>\n",
       "      <th>3</th>\n",
       "      <td>AVpfBXx21cnluZ0-cKxs</td>\n",
       "      <td>SMALL BRANDS</td>\n",
       "      <td>Other Women Shoes</td>\n",
       "      <td>Blue,Multicolor</td>\n",
       "      <td>2016-11-11 09:49:00+00:00</td>\n",
       "      <td>2016-11-11 09:49:00+00:00</td>\n",
       "      <td>[{\"dateSeen\":[\"2016-11-11T09:49:00Z\"],\"sourceU...</td>\n",
       "      <td>[{\"key\":\"Season\",\"value\":[\"All-Season\"]},{\"key...</td>\n",
       "      <td>https://i5.walmartimages.com/asr/e04c07b2-5222...</td>\n",
       "      <td>Z130103201090</td>\n",
       "      <td>...</td>\n",
       "      <td>79.98</td>\n",
       "      <td>79.98</td>\n",
       "      <td>new</td>\n",
       "      <td>USD</td>\n",
       "      <td>2016-11-09T00:00:00Z</td>\n",
       "      <td>1.0</td>\n",
       "      <td>ApparelSave - Walmart.com</td>\n",
       "      <td>https://www.walmart.com/ip/Zoot-TT-TRAINER-2.0...</td>\n",
       "      <td>https://www.walmart.com/ip/Zoot-TT-TRAINER-2.0...</td>\n",
       "      <td>2016-11-11 09:49:00+00:00</td>\n",
       "    </tr>\n",
       "    <tr>\n",
       "      <th>4</th>\n",
       "      <td>AVpfEqFRLJeJML431x7w</td>\n",
       "      <td>WILD PAIR</td>\n",
       "      <td>Other Women Shoes</td>\n",
       "      <td>Brown</td>\n",
       "      <td>2016-11-16 12:56:36+00:00</td>\n",
       "      <td>2016-11-16 12:56:36+00:00</td>\n",
       "      <td>[{\"dateSeen\":[\"2016-11-16T12:56:36Z\"],\"sourceU...</td>\n",
       "      <td>[{\"key\":\"Heel Height\",\"value\":[\"High (3 in. an...</td>\n",
       "      <td>https://i5.walmartimages.com/asr/8b2c73f5-939f...</td>\n",
       "      <td>COLFAX-COG</td>\n",
       "      <td>...</td>\n",
       "      <td>26.98</td>\n",
       "      <td>26.98</td>\n",
       "      <td>NaN</td>\n",
       "      <td>USD</td>\n",
       "      <td>2016-11-09T00:00:00Z</td>\n",
       "      <td>1.0</td>\n",
       "      <td>NaN</td>\n",
       "      <td>https://www.walmart.com/ip/Wild-Pair-Colfax-Wo...</td>\n",
       "      <td>https://www.walmart.com/ip/Wild-Pair-Colfax-Wo...</td>\n",
       "      <td>2016-11-16 12:56:36+00:00</td>\n",
       "    </tr>\n",
       "  </tbody>\n",
       "</table>\n",
       "<p>5 rows × 22 columns</p>\n",
       "</div>"
      ],
      "text/plain": [
       "                     id         brand         categories           colors  \\\n",
       "0  AVpfBXx21cnluZ0-cKxs  SMALL BRANDS  Other Women Shoes  Blue,Multicolor   \n",
       "1  AVpfBXx21cnluZ0-cKxs  SMALL BRANDS  Other Women Shoes  Blue,Multicolor   \n",
       "2  AVpfBXx21cnluZ0-cKxs  SMALL BRANDS  Other Women Shoes  Blue,Multicolor   \n",
       "3  AVpfBXx21cnluZ0-cKxs  SMALL BRANDS  Other Women Shoes  Blue,Multicolor   \n",
       "4  AVpfEqFRLJeJML431x7w     WILD PAIR  Other Women Shoes            Brown   \n",
       "\n",
       "                  dateAdded               dateUpdated  \\\n",
       "0 2016-11-11 09:49:00+00:00 2016-11-11 09:49:00+00:00   \n",
       "1 2016-11-11 09:49:00+00:00 2016-11-11 09:49:00+00:00   \n",
       "2 2016-11-11 09:49:00+00:00 2016-11-11 09:49:00+00:00   \n",
       "3 2016-11-11 09:49:00+00:00 2016-11-11 09:49:00+00:00   \n",
       "4 2016-11-16 12:56:36+00:00 2016-11-16 12:56:36+00:00   \n",
       "\n",
       "                                        descriptions  \\\n",
       "0  [{\"dateSeen\":[\"2016-11-11T09:49:00Z\"],\"sourceU...   \n",
       "1  [{\"dateSeen\":[\"2016-11-11T09:49:00Z\"],\"sourceU...   \n",
       "2  [{\"dateSeen\":[\"2016-11-11T09:49:00Z\"],\"sourceU...   \n",
       "3  [{\"dateSeen\":[\"2016-11-11T09:49:00Z\"],\"sourceU...   \n",
       "4  [{\"dateSeen\":[\"2016-11-16T12:56:36Z\"],\"sourceU...   \n",
       "\n",
       "                                            features  \\\n",
       "0  [{\"key\":\"Season\",\"value\":[\"All-Season\"]},{\"key...   \n",
       "1  [{\"key\":\"Season\",\"value\":[\"All-Season\"]},{\"key...   \n",
       "2  [{\"key\":\"Season\",\"value\":[\"All-Season\"]},{\"key...   \n",
       "3  [{\"key\":\"Season\",\"value\":[\"All-Season\"]},{\"key...   \n",
       "4  [{\"key\":\"Heel Height\",\"value\":[\"High (3 in. an...   \n",
       "\n",
       "                                           imageURLs manufacturerNumber  ...  \\\n",
       "0  https://i5.walmartimages.com/asr/e04c07b2-5222...      Z130103201090  ...   \n",
       "1  https://i5.walmartimages.com/asr/e04c07b2-5222...      Z130103201090  ...   \n",
       "2  https://i5.walmartimages.com/asr/e04c07b2-5222...      Z130103201090  ...   \n",
       "3  https://i5.walmartimages.com/asr/e04c07b2-5222...      Z130103201090  ...   \n",
       "4  https://i5.walmartimages.com/asr/8b2c73f5-939f...         COLFAX-COG  ...   \n",
       "\n",
       "  prices.amountMin PriceMax prices.condition  prices.currency  \\\n",
       "0            71.99    71.99              NaN              USD   \n",
       "1              250   250.00              new              USD   \n",
       "2            75.99    75.99              new              USD   \n",
       "3            79.98    79.98              new              USD   \n",
       "4            26.98    26.98              NaN              USD   \n",
       "\n",
       "        prices.dateSeen prices.isSale            prices.merchant  \\\n",
       "0  2016-11-02T00:00:00Z           1.0                        NaN   \n",
       "1  2016-10-27T00:00:00Z           0.0  ApparelSave - Walmart.com   \n",
       "2  2016-10-27T00:00:00Z           1.0  ApparelSave - Walmart.com   \n",
       "3  2016-11-09T00:00:00Z           1.0  ApparelSave - Walmart.com   \n",
       "4  2016-11-09T00:00:00Z           1.0                        NaN   \n",
       "\n",
       "                                   prices.sourceURLs  \\\n",
       "0  https://www.walmart.com/ip/Zoot-TT-TRAINER-2.0...   \n",
       "1  https://www.walmart.com/ip/Zoot-TT-TRAINER-2.0...   \n",
       "2  https://www.walmart.com/ip/Zoot-TT-TRAINER-2.0...   \n",
       "3  https://www.walmart.com/ip/Zoot-TT-TRAINER-2.0...   \n",
       "4  https://www.walmart.com/ip/Wild-Pair-Colfax-Wo...   \n",
       "\n",
       "                                          sourceURLs            price.dateSeen  \n",
       "0  https://www.walmart.com/ip/Zoot-TT-TRAINER-2.0... 2016-11-11 09:49:00+00:00  \n",
       "1  https://www.walmart.com/ip/Zoot-TT-TRAINER-2.0... 2016-11-11 09:49:00+00:00  \n",
       "2  https://www.walmart.com/ip/Zoot-TT-TRAINER-2.0... 2016-11-11 09:49:00+00:00  \n",
       "3  https://www.walmart.com/ip/Zoot-TT-TRAINER-2.0... 2016-11-11 09:49:00+00:00  \n",
       "4  https://www.walmart.com/ip/Wild-Pair-Colfax-Wo... 2016-11-16 12:56:36+00:00  \n",
       "\n",
       "[5 rows x 22 columns]"
      ]
     },
     "execution_count": 18,
     "metadata": {},
     "output_type": "execute_result"
    }
   ],
   "source": [
    "df_new.head()"
   ]
  },
  {
   "cell_type": "code",
   "execution_count": 19,
   "id": "13623781",
   "metadata": {
    "colab": {
     "base_uri": "https://localhost:8080/"
    },
    "id": "13623781",
    "outputId": "230342f3-ac4d-40c2-d706-dcc29e99dd53"
   },
   "outputs": [
    {
     "data": {
      "text/plain": [
       "(10851, 22)"
      ]
     },
     "execution_count": 19,
     "metadata": {},
     "output_type": "execute_result"
    }
   ],
   "source": [
    "df_new.shape"
   ]
  },
  {
   "cell_type": "markdown",
   "id": "7e5b89c8",
   "metadata": {
    "id": "7e5b89c8"
   },
   "source": [
    "### Section 2.3 Visualization 1"
   ]
  },
  {
   "cell_type": "code",
   "execution_count": 20,
   "id": "fe54a3ba",
   "metadata": {
    "colab": {
     "base_uri": "https://localhost:8080/",
     "height": 489
    },
    "id": "fe54a3ba",
    "outputId": "787215f5-e020-4be2-b1cd-2294e3e25be5"
   },
   "outputs": [
    {
     "data": {
      "text/plain": [
       "(0.0, 1000.0)"
      ]
     },
     "execution_count": 20,
     "metadata": {},
     "output_type": "execute_result"
    },
    {
     "data": {
      "image/png": "[encoded data removed]",
      "text/plain": [
       "<Figure size 640x480 with 1 Axes>"
      ]
     },
     "metadata": {},
     "output_type": "display_data"
    }
   ],
   "source": [
    "'''\n",
    "Plot Name - Distribution Plot\n",
    "Visualization Goal - To represent the proportion of data in each bin\n",
    "Output Analysis - 90% of the shoes have a price of less than $200\n",
    "'''\n",
    "\n",
    "plt.title(\"Distribution of PriceMax\")\n",
    "plt.xlabel(\"PriceMax\")\n",
    "plt.ylabel(\"Density\")\n",
    "sns.distplot(df_new['PriceMax'], kde=True, bins=50)\n",
    "plt.xlim(xmin=0, xmax=1000)"
   ]
  },
  {
   "cell_type": "markdown",
   "id": "sqtMl134esK3",
   "metadata": {
    "id": "sqtMl134esK3"
   },
   "source": [
    "### Section 2.4 Visualization 2"
   ]
  },
  {
   "cell_type": "markdown",
   "id": "f7dQVWJyewav",
   "metadata": {
    "id": "f7dQVWJyewav"
   },
   "source": [
    "#### Section 2.4.1 Data Prep for visualization"
   ]
  },
  {
   "cell_type": "code",
   "execution_count": 21,
   "id": "a476cd91",
   "metadata": {
    "id": "a476cd91"
   },
   "outputs": [],
   "source": [
    "'''\n",
    "Goal is to understand the fluctuation of the data for each brand\n",
    "Creating a top_brands and bottom_brands dataframe to get the N brands that have a lot of fluctuations and those that do not have\n",
    "flunctuations\n",
    "Steps -\n",
    "      1. Aggregating based on the Brand column and getting the range of pricemax\n",
    "      2. Sorting the values of step 1 in descending order of range (Top Brands)\n",
    "      2. Sorting the values of step 1 in ascending order of range (Bottom Brands)\n",
    "'''\n",
    "\n",
    "price_range_by_brand = df_new.groupby(\"brand\")[\"PriceMax\"].agg(lambda x: x.max() - x.min())\n",
    "\n",
    "price_range_by_brand = price_range_by_brand.sort_values(ascending=False)\n",
    "top_n = 10\n",
    "top_brands = price_range_by_brand.head(top_n)\n",
    "\n",
    "price_range_by_brand_low = price_range_by_brand.sort_values(ascending=True)\n",
    "bottom_n = 10\n",
    "bottom_brands = price_range_by_brand_low.head(bottom_n)"
   ]
  },
  {
   "cell_type": "code",
   "execution_count": 22,
   "id": "712c0b48",
   "metadata": {
    "colab": {
     "base_uri": "https://localhost:8080/"
    },
    "id": "712c0b48",
    "outputId": "1c3e0704-b14d-43dc-9d0b-16cba07180d7"
   },
   "outputs": [
    {
     "data": {
      "text/plain": [
       "brand\n",
       "GUCCI                   1640.00\n",
       "SMALL BRANDS            1484.01\n",
       "RALPH LAUREN            1425.01\n",
       "PRADA                    931.00\n",
       "VALENTINO                680.00\n",
       "DOLCE & GABBANA          485.01\n",
       "VINCE                    352.01\n",
       "FRYE                     346.01\n",
       "MICHAEL MICHAEL KORS     333.01\n",
       "VIA SPIGA                301.01\n",
       "Name: PriceMax, dtype: float64"
      ]
     },
     "execution_count": 22,
     "metadata": {},
     "output_type": "execute_result"
    }
   ],
   "source": [
    "top_brands"
   ]
  },
  {
   "cell_type": "code",
   "execution_count": 23,
   "id": "d268eeca",
   "metadata": {
    "colab": {
     "base_uri": "https://localhost:8080/"
    },
    "id": "d268eeca",
    "outputId": "9c8c6677-9c62-4eda-c96a-d0a3743213a7"
   },
   "outputs": [
    {
     "data": {
      "text/plain": [
       "brand\n",
       "JONES NEW YORK       0.00\n",
       "DICKIES              0.00\n",
       "BONGO                0.00\n",
       "RUBIE'S COSTUMES     8.14\n",
       "EASYCOMFORTS        21.79\n",
       "FADED GLORY         24.10\n",
       "LEG AVENUE          26.27\n",
       "SODA                27.05\n",
       "MO MO               28.97\n",
       "DEARFOAMS           29.23\n",
       "Name: PriceMax, dtype: float64"
      ]
     },
     "execution_count": 23,
     "metadata": {},
     "output_type": "execute_result"
    }
   ],
   "source": [
    "bottom_brands"
   ]
  },
  {
   "cell_type": "markdown",
   "id": "14513bea",
   "metadata": {
    "id": "14513bea"
   },
   "source": [
    "#### Section 2.4.2 Plot for Visualization 2"
   ]
  },
  {
   "cell_type": "code",
   "execution_count": 24,
   "id": "f115ab12",
   "metadata": {
    "colab": {
     "base_uri": "https://localhost:8080/",
     "height": 487
    },
    "id": "f115ab12",
    "outputId": "10d9d4f7-596f-4135-8eb7-24187a007933"
   },
   "outputs": [
    {
     "data": {
      "image/png": "[encoded data removed]",
      "text/plain": [
       "<Figure size 640x480 with 1 Axes>"
      ]
     },
     "metadata": {},
     "output_type": "display_data"
    }
   ],
   "source": [
    "'''\n",
    "Plot Name - Bar Plot\n",
    "Visualization Goal - To represent the distribution of the price range by brand\n",
    "Output Analysis - Gucci has the highest range of $1600 dollars in its price, followed by Ralph Lauren and Prada\n",
    "'''\n",
    "\n",
    "#Price Range by Brand for top 10 brands\n",
    "top_brands.plot(kind=\"bar\")\n",
    "plt.title(\"Top 10: Price Range by Brand\")\n",
    "plt.xlabel(\"Brand\")\n",
    "plt.ylabel(\"Price Range\")\n",
    "plt.xticks(rotation=45, fontsize=10)\n",
    "plt.tight_layout()"
   ]
  },
  {
   "cell_type": "code",
   "execution_count": 25,
   "id": "61050a6d",
   "metadata": {
    "colab": {
     "base_uri": "https://localhost:8080/",
     "height": 487
    },
    "id": "61050a6d",
    "outputId": "8f40a22c-c414-4514-a924-799ee1fd8c93"
   },
   "outputs": [
    {
     "data": {
      "image/png": "[encoded data removed]",
      "text/plain": [
       "<Figure size 640x480 with 1 Axes>"
      ]
     },
     "metadata": {},
     "output_type": "display_data"
    }
   ],
   "source": [
    "'''\n",
    "Plot Name - Bar Plot\n",
    "Visualization Goal - To represent the distribution of the price range by brand\n",
    "Output Analysis - Jones New York,Dickies and Bongo have the least range since there is no price fluctuation in its brand\n",
    "'''\n",
    "\n",
    "#Price Range by Brand for bottom 10 brands\n",
    "bottom_brands.plot(kind=\"bar\")\n",
    "plt.title(\"Price Range by Brand\")\n",
    "plt.xlabel(\"Brand\")\n",
    "plt.ylabel(\"Price Range\")\n",
    "plt.xticks(rotation=45, fontsize=10)\n",
    "plt.tight_layout()"
   ]
  },
  {
   "cell_type": "markdown",
   "id": "l5JU32bXgVq_",
   "metadata": {
    "id": "l5JU32bXgVq_"
   },
   "source": [
    "### Section 2.5 Visualization 3"
   ]
  },
  {
   "cell_type": "code",
   "execution_count": 26,
   "id": "1b13a4eb",
   "metadata": {
    "colab": {
     "base_uri": "https://localhost:8080/",
     "height": 645
    },
    "id": "1b13a4eb",
    "outputId": "851c6f7e-d4d7-44a4-e0d7-bfc7d77911cf"
   },
   "outputs": [
    {
     "data": {
      "text/plain": [
       "Text(0, 0.5, 'Maximum Price')"
      ]
     },
     "execution_count": 26,
     "metadata": {},
     "output_type": "execute_result"
    },
    {
     "data": {
      "image/png": "[encoded data removed]",
      "text/plain": [
       "<Figure size 640x480 with 1 Axes>"
      ]
     },
     "metadata": {},
     "output_type": "display_data"
    }
   ],
   "source": [
    "'''\n",
    "Plot Name - Bar Plot\n",
    "Visualization Goal - To represent the top 10 brands with the maximum prices\n",
    "Output Analysis - Gucci has the most premium pricing amongst the brands available followed by Valentino and Ralph Lauren\n",
    "'''\n",
    "\n",
    "brand_max_prices = df_new.groupby(\"brand\")[\"PriceMax\"].max()\n",
    "brand_max_prices = brand_max_prices.sort_values(ascending=False)\n",
    "top_n = 10\n",
    "top_brands = brand_max_prices.head(top_n)\n",
    "top_brands.plot(kind=\"bar\", color='skyblue')\n",
    "plt.title(\"Top 10 Brands with the Highest Maximum Prices\")\n",
    "plt.xlabel(\"Brand\")\n",
    "plt.ylabel(\"Maximum Price\")"
   ]
  },
  {
   "cell_type": "markdown",
   "id": "-5srnFcQgeNF",
   "metadata": {
    "id": "-5srnFcQgeNF"
   },
   "source": [
    "### Section 2.6 Visualization 4"
   ]
  },
  {
   "cell_type": "code",
   "execution_count": 27,
   "id": "b37aed43",
   "metadata": {
    "colab": {
     "base_uri": "https://localhost:8080/",
     "height": 518
    },
    "id": "b37aed43",
    "outputId": "4de91b49-4b1c-4111-99c8-355533eedb03"
   },
   "outputs": [
    {
     "data": {
      "text/plain": [
       "Text(0, 0.5, 'Count')"
      ]
     },
     "execution_count": 27,
     "metadata": {},
     "output_type": "execute_result"
    },
    {
     "data": {
      "image/png": "[encoded data removed]",
      "text/plain": [
       "<Figure size 640x480 with 1 Axes>"
      ]
     },
     "metadata": {},
     "output_type": "display_data"
    }
   ],
   "source": [
    "'''\n",
    "Plot Name - Bar Plot\n",
    "Visualization Goal - To represent the top 10 shoe colors\n",
    "Output Analysis - Black is the most frequently present shoe color in the dataset (could be because of a lot of demand)\n",
    "'''\n",
    "\n",
    "df_new1 = df_new[df_new.colors != 'No_Color']\n",
    "color_counts = df_new1['colors'].value_counts()\n",
    "top_n = 10\n",
    "top_colors = color_counts.head(top_n)\n",
    "top_colors.plot(kind=\"bar\", color='skyblue')\n",
    "plt.title(f\"Top {top_n} Shoe Colors\")\n",
    "plt.xlabel(\"Color\")\n",
    "plt.ylabel(\"Count\")"
   ]
  },
  {
   "cell_type": "markdown",
   "id": "b3bbb33e",
   "metadata": {
    "id": "b3bbb33e"
   },
   "source": [
    "## Section 3: One analysis with source code and explanations"
   ]
  },
  {
   "cell_type": "markdown",
   "id": "afzvFQGRk-T6",
   "metadata": {
    "id": "afzvFQGRk-T6"
   },
   "source": [
    "#### <b> Analysis </b>\n",
    "\n",
    "The assumption is that there would be atleast a couple of categories of shoes that would have a very high range in the prices. The assumption would be that one of heels, sandals or boots might have a higher range of values considering the variety of options present"
   ]
  },
  {
   "cell_type": "code",
   "execution_count": 28,
   "id": "62da6777",
   "metadata": {
    "id": "62da6777"
   },
   "outputs": [],
   "source": [
    "#Price Range by shoe categories\n",
    "price_range_by_shoe = df_new.groupby(\"categories\")[\"PriceMax\"].agg(lambda x: x.max() - x.min())"
   ]
  },
  {
   "cell_type": "code",
   "execution_count": 29,
   "id": "938d1f81",
   "metadata": {
    "colab": {
     "base_uri": "https://localhost:8080/"
    },
    "id": "938d1f81",
    "outputId": "b4014214-d330-49ab-febf-e975e0913688"
   },
   "outputs": [
    {
     "data": {
      "text/plain": [
       "categories\n",
       "Boots                2292.01\n",
       "Causual               690.01\n",
       "Design                  0.00\n",
       "Heels                1025.05\n",
       "Kids                   90.99\n",
       "Other Women Shoes     994.01\n",
       "Sandals              1293.01\n",
       "Sports                654.01\n",
       "Name: PriceMax, dtype: float64"
      ]
     },
     "execution_count": 29,
     "metadata": {},
     "output_type": "execute_result"
    }
   ],
   "source": [
    "price_range_by_shoe"
   ]
  },
  {
   "cell_type": "code",
   "execution_count": 30,
   "id": "66db7c18",
   "metadata": {
    "colab": {
     "base_uri": "https://localhost:8080/",
     "height": 487
    },
    "id": "66db7c18",
    "outputId": "3ec86850-09ce-4eb7-a2eb-a82828306500"
   },
   "outputs": [
    {
     "data": {
      "image/png": "[encoded data removed]",
      "text/plain": [
       "<Figure size 640x480 with 1 Axes>"
      ]
     },
     "metadata": {},
     "output_type": "display_data"
    }
   ],
   "source": [
    "sns.boxplot(x='categories', y='PriceMax', data= df_new)\n",
    "plt.title(\"Price Range by Shoe Categories (Box Plot)\")\n",
    "plt.xlabel(\"Shoe Type\")\n",
    "plt.ylabel(\"Price Range\")\n",
    "plt.xticks(rotation=45, fontsize=10)\n",
    "plt.tight_layout()"
   ]
  },
  {
   "cell_type": "markdown",
   "id": "3l-cv5rwlc_N",
   "metadata": {
    "id": "3l-cv5rwlc_N"
   },
   "source": [
    "<b> Analysis Outcome </b>\n",
    "\n",
    "The assumption holds good since the box plot graph confirms our assumption\n",
    "\n",
    "<b> Reason behind boxplot </b> - This is a plot that would show the variability of values in a dataset and showcases the median, upper and lower quartiles as well as min and max values\n",
    "\n",
    "<b> Finding from boxplot </b> - the range in boots is from somewhere close to  `$`50 and the maximum value is around `$`2500 dollars. The category that has the least variability is the kids category with the boxplot being tighlty coupled right from the min value to the max value"
   ]
  },
  {
   "cell_type": "markdown",
   "id": "5783ae3a",
   "metadata": {
    "id": "5783ae3a"
   },
   "source": [
    "## Section 4: Conclusion"
   ]
  },
  {
   "cell_type": "markdown",
   "id": "wDXIp7s3mq_u",
   "metadata": {
    "id": "wDXIp7s3mq_u"
   },
   "source": [
    "From the Data, we are able to make a variety of conclusions -\n",
    "\n",
    "<b> 1. Black is the preferred color </b> - In the dataset, it looks like more than 20% of the styles present have black as the color\n",
    "\n",
    "<b> 2. Designer brands have large variation </b> - Prices in brands such as Gucci, Ralph Lauren and Prada where as brands such as Dickies, Jones New York have no variation in prices\n",
    "\n",
    "<b> 3. Shoe price is less than `$`200 </b> - Shoe prices as seen in the distirbution are more or less constrained withing 200 dollars. This contributes to around 90%. Designer brands result in very high dollar value for the prices. If designer brands were to be removed, we could possible centralize the distribution to around $200 rather than it being heavily left skewed\n",
    "\n",
    "<b> 4. Gucci has the maximum price </b> - Amongst all brands in the dataset, Gucci has products that have the maximum price\n",
    "\n",
    "<b> 5. Boots for the win </b> - Based on the boxplot for price variation in shoes, it is seen that boots have the maximum variation amongst all categories of shoes"
   ]
  },
  {
   "cell_type": "markdown",
   "id": "HNoEnzOio3I2",
   "metadata": {
    "id": "HNoEnzOio3I2"
   },
   "source": [
    "## Section 5 - Future Work\n",
    "\n",
    "* Scope the problem to Mens shoes to check for any patterns or correlation\n",
    "* Trend analysis of the sale of luxury brands\n",
    "* Further analysis of price fluctuation - reasons behind sudden price drops etc."
   ]
  }
 ],
 "metadata": {
  "colab": {
   "collapsed_sections": [
    "5a4ce5ac",
    "xxARDxfmCbDf",
    "05329f1f",
    "n1Qc9i-sMZ_c",
    "8ce47b45",
    "afe4c9bf",
    "d742f418",
    "08512659",
    "47e30bb0",
    "CWQAIkxQZwSy",
    "WErbTn_Qa2um",
    "-5srnFcQgeNF",
    "b3bbb33e"
   ],
   "provenance": []
  },
  "kernelspec": {
   "display_name": "Python 3 (ipykernel)",
   "language": "python",
   "name": "python3"
  },
  "language_info": {
   "codemirror_mode": {
    "name": "ipython",
    "version": 3
   },
   "file_extension": ".py",
   "mimetype": "text/x-python",
   "name": "python",
   "nbconvert_exporter": "python",
   "pygments_lexer": "ipython3",
   "version": "3.11.4"
  }
 },
 "nbformat": 4,
 "nbformat_minor": 5
}
